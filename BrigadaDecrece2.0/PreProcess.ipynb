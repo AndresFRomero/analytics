{
 "cells": [
  {
   "cell_type": "code",
   "execution_count": 2,
   "metadata": {},
   "outputs": [
    {
     "name": "stdout",
     "output_type": "stream",
     "text": [
      "clients:  1238\n"
     ]
    }
   ],
   "source": [
    "from sklearn.ensemble import IsolationForest\n",
    "import pandas as pd\n",
    "import json\n",
    "import numpy as np\n",
    "\n",
    "data = pd.read_csv('DataForRouting.csv')\n",
    "data = data.dropna(subset=['LATITUDE', 'LONGITUDE', 'POSTAL_CODE'])\n",
    "data = data.to_dict(orient='index')\n",
    "\n",
    "with open('configurations.json', 'r') as fp:\n",
    "    config = json.load(fp)\n",
    "\n",
    "print('clients: ', len(data))"
   ]
  },
  {
   "cell_type": "code",
   "execution_count": 3,
   "metadata": {},
   "outputs": [],
   "source": [
    "# Usefull Functions\n",
    "def anomalyDetection(ironmongeries, contamination: float):\n",
    "    X = np.array([ [i['lng'], i['lat']] for i in ironmongeries])\n",
    "    anomaly_algorithm = IsolationForest(contamination=contamination)\n",
    "    y_pred = anomaly_algorithm.fit(X).predict(X)\n",
    "\n",
    "    newList = []\n",
    "    for idx, value in enumerate(y_pred):\n",
    "        if value == 1:\n",
    "            newList.append(ironmongeries[idx])\n",
    "\n",
    "    return newList"
   ]
  },
  {
   "cell_type": "code",
   "execution_count": 7,
   "metadata": {},
   "outputs": [
    {
     "name": "stdout",
     "output_type": "stream",
     "text": [
      "Barrios Unidos 39 30 1\n",
      "Bosa 103 90 3\n",
      "Engativa 111 90 3\n",
      "Fontibon 36 30 1\n",
      "Kennedy 108 90 3\n",
      "Puente Aranda 55 30 1\n",
      "Rafael Uribe Uribe 42 30 1\n",
      "San Cristobal 63 30 1\n",
      "Soacha 87 60 2\n",
      "Suba 149 90 4\n",
      "Usaquen 49 30 1\n"
     ]
    }
   ],
   "source": [
    "# For Each Configuration Build Routing Data\n",
    "\n",
    "# Service\n",
    "import hunterRoutingService as hrs\n",
    "allSoluions = []\n",
    "for zone in config:\n",
    "    PCs = zone['PC']\n",
    "    subData = {\n",
    "        'id':zone['Location'],\n",
    "        'ironmongeries' : [ {\n",
    "            'lat': data[i]['LATITUDE'], \n",
    "            'lng': data[i]['LONGITUDE'], \n",
    "            'id': data[i]['ID'],\n",
    "            'type': 'Decrece',\n",
    "            'coordinates': [ data[i]['LATITUDE'], data[i]['LONGITUDE'] ] \n",
    "            } for i in data if data[i]['POSTAL_CODE'] in PCs ]\n",
    "    }\n",
    "    iniLen = len(subData['ironmongeries'])\n",
    "    contP = 1-zone['Routes']*30/iniLen\n",
    "    subData['ironmongeries'] = anomalyDetection(subData['ironmongeries'],contP)\n",
    "\n",
    "    HZ = hrs.RoutingHunterService()\n",
    "    sol = HZ.hunterRouting(subData)\n",
    "\n",
    "    allSoluions.append(sol)\n",
    "\n",
    "    print(zone['Location'], iniLen, len(subData['ironmongeries']), len(sol['routes']))\n",
    "    "
   ]
  },
  {
   "cell_type": "code",
   "execution_count": 16,
   "metadata": {},
   "outputs": [],
   "source": [
    "data = pd.read_csv('DataForRouting.csv', index_col = 'ID')\n",
    "data = data.dropna(subset=['LATITUDE', 'LONGITUDE', 'POSTAL_CODE'])\n",
    "data = data.to_dict(orient='index')\n",
    "\n",
    "for i in allSoluions:\n",
    "    count = 1\n",
    "    for j in i['routes']:\n",
    "        name = i['id'] + '_' + str(count)\n",
    "        featureList = []\n",
    "        linestring = []\n",
    "\n",
    "        orderRoute = 1\n",
    "        for client in j:\n",
    "            # Individual Points\n",
    "            coors = [data[client['id']]['LONGITUDE'] , data[client['id']]['LATITUDE']]\n",
    "            linestring.append(coors)\n",
    "\n",
    "            featureList.append({\n",
    "                \"type\": \"Feature\",\n",
    "                \"geometry\": {\n",
    "                    \"type\": \"Point\",\n",
    "                    \"coordinates\": coors\n",
    "                },\n",
    "                \"properties\": {\n",
    "                    \"id\": client['id'],\n",
    "                    \"name\": data[client['id']]['NAME'],\n",
    "                    \"order\": orderRoute\n",
    "                }\n",
    "            })\n",
    "            orderRoute += 1\n",
    "\n",
    "        # Full Route\n",
    "        featureList.append({\n",
    "            \"type\": \"Feature\",\n",
    "            \"geometry\": {\n",
    "                \"type\": \"LineString\",\n",
    "                \"coordinates\": linestring\n",
    "            },\n",
    "            \"properties\": {\n",
    "                \"Route\": name\n",
    "            }\n",
    "        })\n",
    "\n",
    "        with open(name+'.geojson', 'w') as fp:\n",
    "            json.dump({\n",
    "                \"type\": \"FeatureCollection\",\n",
    "                \"features\": featureList\n",
    "            }, fp)\n",
    "        count += 1\n",
    "        \n"
   ]
  }
 ],
 "metadata": {
  "interpreter": {
   "hash": "63fd5069d213b44bf678585dea6b12cceca9941eaf7f819626cde1f2670de90d"
  },
  "kernelspec": {
   "display_name": "Python 3.9.6 64-bit",
   "language": "python",
   "name": "python3"
  },
  "language_info": {
   "codemirror_mode": {
    "name": "ipython",
    "version": 3
   },
   "file_extension": ".py",
   "mimetype": "text/x-python",
   "name": "python",
   "nbconvert_exporter": "python",
   "pygments_lexer": "ipython3",
   "version": "3.8.10"
  },
  "orig_nbformat": 4
 },
 "nbformat": 4,
 "nbformat_minor": 2
}
