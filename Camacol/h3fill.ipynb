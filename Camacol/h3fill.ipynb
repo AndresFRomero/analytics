{
 "cells": [
  {
   "cell_type": "code",
   "execution_count": 1,
   "metadata": {},
   "outputs": [],
   "source": [
    "import pandas as pd\n",
    "import h3"
   ]
  },
  {
   "cell_type": "code",
   "execution_count": 26,
   "metadata": {},
   "outputs": [],
   "source": [
    "df = pd.read_csv('camacol.csv', index_col = 'ID_PROYECTO')\n",
    "\n",
    "def cells(row, resolution):\n",
    "    lat,lng = row\n",
    "    return h3.geo_to_h3(lat,lng,resolution)\n",
    "\n",
    "df['r7_h3'] = df[['LATITUD', 'LONGITUD']].apply(lambda x: cells(x,7), axis=1)\n",
    "df['r8_h3'] = df[['LATITUD', 'LONGITUD']].apply(lambda x: cells(x,8), axis=1)\n",
    "df['r9_h3'] = df[['LATITUD', 'LONGITUD']].apply(lambda x: cells(x,9), axis=1)\n",
    "\n",
    "\n",
    "df[['r7_h3', 'r8_h3', 'r9_h3']].to_csv('camacol_fin.csv')"
   ]
  }
 ],
 "metadata": {
  "kernelspec": {
   "display_name": "Python 3.8.10 64-bit",
   "language": "python",
   "name": "python3"
  },
  "language_info": {
   "codemirror_mode": {
    "name": "ipython",
    "version": 3
   },
   "file_extension": ".py",
   "mimetype": "text/x-python",
   "name": "python",
   "nbconvert_exporter": "python",
   "pygments_lexer": "ipython3",
   "version": "3.8.10"
  },
  "orig_nbformat": 4,
  "vscode": {
   "interpreter": {
    "hash": "31f2aee4e71d21fbe5cf8b01ff0e069b9275f58929596ceb00d14d90e3e16cd6"
   }
  }
 },
 "nbformat": 4,
 "nbformat_minor": 2
}
