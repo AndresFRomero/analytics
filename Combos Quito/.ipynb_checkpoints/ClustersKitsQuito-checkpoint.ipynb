{
 "cells": [
  {
   "cell_type": "markdown",
   "metadata": {},
   "source": [
    "# Análisis de similitud entre clientres y combos por zonas"
   ]
  },
  {
   "cell_type": "code",
   "execution_count": 1,
   "metadata": {},
   "outputs": [],
   "source": [
    "import pandas as pd"
   ]
  },
  {
   "cell_type": "code",
   "execution_count": 2,
   "metadata": {},
   "outputs": [],
   "source": [
    "# Se leen los resultados\n",
    "lift = pd.read_excel('result.xlsx', sheet_name = 'lift').to_dict(orient = 'index')\n",
    "lift = { (lift[i]['product_a'], lift[i]['product_b']): lift[i]['lift']  for i in lift}\n",
    "products = pd.read_excel('result.xlsx', sheet_name = 'products', index_col = 'id').to_dict(orient = 'index')"
   ]
  },
  {
   "cell_type": "code",
   "execution_count": 3,
   "metadata": {},
   "outputs": [
    {
     "name": "stdout",
     "output_type": "stream",
     "text": [
      "Se crearon  2  kits\n"
     ]
    }
   ],
   "source": [
    "# Para cada producto se saca el kit representativo.\n",
    "kits = []\n",
    "\n",
    "for i in products:\n",
    "    scores = [(100,i)]\n",
    "    for j in products:\n",
    "        try:\n",
    "            scores.append((lift[i,j],j))\n",
    "        except:\n",
    "            scores.append((0,j))\n",
    "    \n",
    "    scores.sort(reverse = True)\n",
    "    testKit = [ i[1] for i in scores[0:6] ]\n",
    "    \n",
    "    # Se eliminan kits repetidos\n",
    "    inside = False\n",
    "    for k in kits:\n",
    "        if len(set(testKit).intersection(set(k))) > 3:\n",
    "            inside = True\n",
    "    \n",
    "    if inside == False:\n",
    "        kits.append([ i[1] for i in scores[0:6]])\n",
    "\n",
    "print('Se crearon ', len(kits), ' kits')"
   ]
  },
  {
   "cell_type": "code",
   "execution_count": 4,
   "metadata": {
    "scrolled": true
   },
   "outputs": [
    {
     "name": "stdout",
     "output_type": "stream",
     "text": [
      "\t\n",
      "kit número  1\n",
      "porcentaje de compra  0.0024227234753550543\n"
     ]
    },
    {
     "data": {
      "text/html": [
       "<div>\n",
       "<style scoped>\n",
       "    .dataframe tbody tr th:only-of-type {\n",
       "        vertical-align: middle;\n",
       "    }\n",
       "\n",
       "    .dataframe tbody tr th {\n",
       "        vertical-align: top;\n",
       "    }\n",
       "\n",
       "    .dataframe thead th {\n",
       "        text-align: right;\n",
       "    }\n",
       "</style>\n",
       "<table border=\"1\" class=\"dataframe\">\n",
       "  <thead>\n",
       "    <tr style=\"text-align: right;\">\n",
       "      <th></th>\n",
       "      <th>name</th>\n",
       "      <th>category</th>\n",
       "      <th>quantity</th>\n",
       "    </tr>\n",
       "  </thead>\n",
       "  <tbody>\n",
       "    <tr>\n",
       "      <th>0</th>\n",
       "      <td>Sint Aut Autoplast Negro x 1 Gal</td>\n",
       "      <td>Pinturas para Metales</td>\n",
       "      <td>2.0</td>\n",
       "    </tr>\n",
       "    <tr>\n",
       "      <th>1</th>\n",
       "      <td>Foco Sensor Led 9 W Luz Día</td>\n",
       "      <td>Bombillos</td>\n",
       "      <td>1.0</td>\n",
       "    </tr>\n",
       "    <tr>\n",
       "      <th>2</th>\n",
       "      <td>Regleta Multitomas 6 Servicios</td>\n",
       "      <td>Regletas</td>\n",
       "      <td>2.0</td>\n",
       "    </tr>\n",
       "    <tr>\n",
       "      <th>3</th>\n",
       "      <td>Linterna Led Recargable 1 x 0.5 w + 8 S MD</td>\n",
       "      <td>Linternas</td>\n",
       "      <td>2.0</td>\n",
       "    </tr>\n",
       "    <tr>\n",
       "      <th>4</th>\n",
       "      <td>Viruta De Acero # 5 - 70 gr</td>\n",
       "      <td>Telas para limpieza</td>\n",
       "      <td>36.0</td>\n",
       "    </tr>\n",
       "    <tr>\n",
       "      <th>5</th>\n",
       "      <td>Viruta De Acero # 4 - 70 gr</td>\n",
       "      <td>Telas para limpieza</td>\n",
       "      <td>33.0</td>\n",
       "    </tr>\n",
       "  </tbody>\n",
       "</table>\n",
       "</div>"
      ],
      "text/plain": [
       "                                         name               category  quantity\n",
       "0            Sint Aut Autoplast Negro x 1 Gal  Pinturas para Metales       2.0\n",
       "1                 Foco Sensor Led 9 W Luz Día              Bombillos       1.0\n",
       "2              Regleta Multitomas 6 Servicios               Regletas       2.0\n",
       "3  Linterna Led Recargable 1 x 0.5 w + 8 S MD              Linternas       2.0\n",
       "4                 Viruta De Acero # 5 - 70 gr    Telas para limpieza      36.0\n",
       "5                 Viruta De Acero # 4 - 70 gr    Telas para limpieza      33.0"
      ]
     },
     "metadata": {},
     "output_type": "display_data"
    },
    {
     "name": "stdout",
     "output_type": "stream",
     "text": [
      "\t\n",
      "kit número  2\n",
      "porcentaje de compra  0.0030075187969924814\n"
     ]
    },
    {
     "data": {
      "text/html": [
       "<div>\n",
       "<style scoped>\n",
       "    .dataframe tbody tr th:only-of-type {\n",
       "        vertical-align: middle;\n",
       "    }\n",
       "\n",
       "    .dataframe tbody tr th {\n",
       "        vertical-align: top;\n",
       "    }\n",
       "\n",
       "    .dataframe thead th {\n",
       "        text-align: right;\n",
       "    }\n",
       "</style>\n",
       "<table border=\"1\" class=\"dataframe\">\n",
       "  <thead>\n",
       "    <tr style=\"text-align: right;\">\n",
       "      <th></th>\n",
       "      <th>name</th>\n",
       "      <th>category</th>\n",
       "      <th>quantity</th>\n",
       "    </tr>\n",
       "  </thead>\n",
       "  <tbody>\n",
       "    <tr>\n",
       "      <th>0</th>\n",
       "      <td>Cinta Empaque Transparente 48 mm x 40</td>\n",
       "      <td>Cintas</td>\n",
       "      <td>8.0</td>\n",
       "    </tr>\n",
       "    <tr>\n",
       "      <th>1</th>\n",
       "      <td>Barra Lam Lisa A36 12mm x 6m</td>\n",
       "      <td>Vigas y Perfiles</td>\n",
       "      <td>5.0</td>\n",
       "    </tr>\n",
       "    <tr>\n",
       "      <th>2</th>\n",
       "      <td>Rodillo de Felpa de 230 mm - 9\"</td>\n",
       "      <td>Rodillos</td>\n",
       "      <td>3.0</td>\n",
       "    </tr>\n",
       "    <tr>\n",
       "      <th>3</th>\n",
       "      <td>Alambre Recocido 1.25mm x 1kg</td>\n",
       "      <td>Alambres</td>\n",
       "      <td>3.0</td>\n",
       "    </tr>\n",
       "    <tr>\n",
       "      <th>4</th>\n",
       "      <td>Esmalte Profesional Rojo x 1/20 Gal</td>\n",
       "      <td>Esmaltes</td>\n",
       "      <td>6.0</td>\n",
       "    </tr>\n",
       "    <tr>\n",
       "      <th>5</th>\n",
       "      <td>Neplo Pp Roscable 1/2\" x 1 un</td>\n",
       "      <td>Accesorios Presión</td>\n",
       "      <td>15.0</td>\n",
       "    </tr>\n",
       "  </tbody>\n",
       "</table>\n",
       "</div>"
      ],
      "text/plain": [
       "                                    name            category  quantity\n",
       "0  Cinta Empaque Transparente 48 mm x 40              Cintas       8.0\n",
       "1           Barra Lam Lisa A36 12mm x 6m    Vigas y Perfiles       5.0\n",
       "2        Rodillo de Felpa de 230 mm - 9\"            Rodillos       3.0\n",
       "3          Alambre Recocido 1.25mm x 1kg            Alambres       3.0\n",
       "4    Esmalte Profesional Rojo x 1/20 Gal            Esmaltes       6.0\n",
       "5          Neplo Pp Roscable 1/2\" x 1 un  Accesorios Presión      15.0"
      ]
     },
     "metadata": {},
     "output_type": "display_data"
    }
   ],
   "source": [
    "# Ahora se imprimen los kits con sus respectivas cantidades a comprar\n",
    "pd.set_option('display.max_colwidth', 1000)\n",
    "\n",
    "n = 1\n",
    "for i in kits:\n",
    "    \n",
    "    print(\"\\t\")\n",
    "    print('kit número ', n)\n",
    "    print('porcentaje de compra ', sum([products[j]['orders'] for j in i])/6/3990)\n",
    "    name = [ products[j]['name'] for j in i ]\n",
    "    category = [ products[j]['category'] for j in i ]\n",
    "    quantity = [ round(products[j]['avg'],0) for j in i ]\n",
    "    \n",
    "    display(pd.DataFrame({'name': name, 'category': category, 'quantity': quantity}))\n",
    "    n += 1"
   ]
  },
  {
   "cell_type": "code",
   "execution_count": 8,
   "metadata": {},
   "outputs": [
    {
     "name": "stdout",
     "output_type": "stream",
     "text": [
      "7\n"
     ]
    }
   ],
   "source": [
    "categories = set([ products[i]['category'] for j in kits for i in j])\n",
    "print(len(categories))"
   ]
  },
  {
   "cell_type": "code",
   "execution_count": null,
   "metadata": {},
   "outputs": [],
   "source": []
  }
 ],
 "metadata": {
  "kernelspec": {
   "display_name": "Python 3",
   "language": "python",
   "name": "python3"
  },
  "language_info": {
   "codemirror_mode": {
    "name": "ipython",
    "version": 3
   },
   "file_extension": ".py",
   "mimetype": "text/x-python",
   "name": "python",
   "nbconvert_exporter": "python",
   "pygments_lexer": "ipython3",
   "version": "3.8.8"
  }
 },
 "nbformat": 4,
 "nbformat_minor": 4
}
