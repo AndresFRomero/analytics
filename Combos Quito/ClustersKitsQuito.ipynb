{
 "cells": [
  {
   "cell_type": "markdown",
   "metadata": {},
   "source": [
    "# Análisis de similitud entre clientres y combos por zonas"
   ]
  },
  {
   "cell_type": "code",
   "execution_count": 5,
   "metadata": {},
   "outputs": [],
   "source": [
    "import pandas as pd"
   ]
  },
  {
   "cell_type": "code",
   "execution_count": 6,
   "metadata": {},
   "outputs": [],
   "source": [
    "# Se leen los resultados\n",
    "lift = pd.read_excel('result.xlsx', sheet_name = 'lift').to_dict(orient = 'index')\n",
    "lift = { (lift[i]['product_a'], lift[i]['product_b']): lift[i]['lift']  for i in lift}\n",
    "products = pd.read_excel('result.xlsx', sheet_name = 'products', index_col = 'id').to_dict(orient = 'index')"
   ]
  },
  {
   "cell_type": "code",
   "execution_count": 7,
   "metadata": {},
   "outputs": [
    {
     "name": "stdout",
     "output_type": "stream",
     "text": [
      "Se crearon  29  kits\n"
     ]
    }
   ],
   "source": [
    "# Para cada producto se saca el kit representativo.\n",
    "kits = []\n",
    "\n",
    "for i in products:\n",
    "    scores = [(100,i)]\n",
    "    for j in products:\n",
    "        try:\n",
    "            scores.append((lift[i,j],j))\n",
    "        except:\n",
    "            scores.append((0,j))\n",
    "    \n",
    "    scores.sort(reverse = True)\n",
    "    testKit = [ i[1] for i in scores[0:6] ]\n",
    "    \n",
    "    # Se eliminan kits repetidos\n",
    "    inside = False\n",
    "    for k in kits:\n",
    "        if len(set(testKit).intersection(set(k))) > 3:\n",
    "            inside = True\n",
    "    \n",
    "    if inside == False:\n",
    "        kits.append([ i[1] for i in scores[0:6]])\n",
    "\n",
    "print('Se crearon ', len(kits), ' kits')"
   ]
  },
  {
   "cell_type": "code",
   "execution_count": 11,
   "metadata": {
    "scrolled": true
   },
   "outputs": [
    {
     "name": "stdout",
     "output_type": "stream",
     "text": [
      "\t\n",
      "kit número  1\n",
      "porcentaje de compra  0.12268102932375823\n"
     ]
    },
    {
     "data": {
      "text/html": [
       "<div>\n",
       "<style scoped>\n",
       "    .dataframe tbody tr th:only-of-type {\n",
       "        vertical-align: middle;\n",
       "    }\n",
       "\n",
       "    .dataframe tbody tr th {\n",
       "        vertical-align: top;\n",
       "    }\n",
       "\n",
       "    .dataframe thead th {\n",
       "        text-align: right;\n",
       "    }\n",
       "</style>\n",
       "<table border=\"1\" class=\"dataframe\">\n",
       "  <thead>\n",
       "    <tr style=\"text-align: right;\">\n",
       "      <th></th>\n",
       "      <th>name</th>\n",
       "      <th>category</th>\n",
       "      <th>quantity</th>\n",
       "    </tr>\n",
       "  </thead>\n",
       "  <tbody>\n",
       "    <tr>\n",
       "      <th>0</th>\n",
       "      <td>Varilla Corrugada 12mm x 12 m</td>\n",
       "      <td>Varillas</td>\n",
       "      <td>45.0</td>\n",
       "    </tr>\n",
       "    <tr>\n",
       "      <th>1</th>\n",
       "      <td>Alambre Recocido 1.25mm x 20kg (c18)</td>\n",
       "      <td>Alambres</td>\n",
       "      <td>3.0</td>\n",
       "    </tr>\n",
       "    <tr>\n",
       "      <th>2</th>\n",
       "      <td>Varilla Corrugada -  10 mm x 12 m</td>\n",
       "      <td>Varillas</td>\n",
       "      <td>86.0</td>\n",
       "    </tr>\n",
       "    <tr>\n",
       "      <th>3</th>\n",
       "      <td>Anticorrosivo Duracolor Brillante Negro x 1 Gal</td>\n",
       "      <td>Pinturas para Metales</td>\n",
       "      <td>5.0</td>\n",
       "    </tr>\n",
       "    <tr>\n",
       "      <th>4</th>\n",
       "      <td>Varilla Corrugada -  8 mm x 12 m</td>\n",
       "      <td>Varillas</td>\n",
       "      <td>133.0</td>\n",
       "    </tr>\n",
       "    <tr>\n",
       "      <th>5</th>\n",
       "      <td>Bioplast x 1 Gal</td>\n",
       "      <td>Pegantes Líquidos</td>\n",
       "      <td>5.0</td>\n",
       "    </tr>\n",
       "  </tbody>\n",
       "</table>\n",
       "</div>"
      ],
      "text/plain": [
       "                                              name               category  \\\n",
       "0                    Varilla Corrugada 12mm x 12 m               Varillas   \n",
       "1             Alambre Recocido 1.25mm x 20kg (c18)               Alambres   \n",
       "2                Varilla Corrugada -  10 mm x 12 m               Varillas   \n",
       "3  Anticorrosivo Duracolor Brillante Negro x 1 Gal  Pinturas para Metales   \n",
       "4                 Varilla Corrugada -  8 mm x 12 m               Varillas   \n",
       "5                                 Bioplast x 1 Gal      Pegantes Líquidos   \n",
       "\n",
       "   quantity  \n",
       "0      45.0  \n",
       "1       3.0  \n",
       "2      86.0  \n",
       "3       5.0  \n",
       "4     133.0  \n",
       "5       5.0  "
      ]
     },
     "metadata": {},
     "output_type": "display_data"
    },
    {
     "name": "stdout",
     "output_type": "stream",
     "text": [
      "\t\n",
      "kit número  2\n",
      "porcentaje de compra  0.16120586475164572\n"
     ]
    },
    {
     "data": {
      "text/html": [
       "<div>\n",
       "<style scoped>\n",
       "    .dataframe tbody tr th:only-of-type {\n",
       "        vertical-align: middle;\n",
       "    }\n",
       "\n",
       "    .dataframe tbody tr th {\n",
       "        vertical-align: top;\n",
       "    }\n",
       "\n",
       "    .dataframe thead th {\n",
       "        text-align: right;\n",
       "    }\n",
       "</style>\n",
       "<table border=\"1\" class=\"dataframe\">\n",
       "  <thead>\n",
       "    <tr style=\"text-align: right;\">\n",
       "      <th></th>\n",
       "      <th>name</th>\n",
       "      <th>category</th>\n",
       "      <th>quantity</th>\n",
       "    </tr>\n",
       "  </thead>\n",
       "  <tbody>\n",
       "    <tr>\n",
       "      <th>0</th>\n",
       "      <td>Varilla Corrugada -  12 mm x 12 m</td>\n",
       "      <td>Varillas</td>\n",
       "      <td>166.0</td>\n",
       "    </tr>\n",
       "    <tr>\n",
       "      <th>1</th>\n",
       "      <td>Varilla Corrugada -  14 mm x 12 m</td>\n",
       "      <td>Varillas</td>\n",
       "      <td>55.0</td>\n",
       "    </tr>\n",
       "    <tr>\n",
       "      <th>2</th>\n",
       "      <td>Varilla Corrugada -  8 mm x 12 m</td>\n",
       "      <td>Varillas</td>\n",
       "      <td>133.0</td>\n",
       "    </tr>\n",
       "    <tr>\n",
       "      <th>3</th>\n",
       "      <td>Varilla Corrugada -  10 mm x 12 m</td>\n",
       "      <td>Varillas</td>\n",
       "      <td>86.0</td>\n",
       "    </tr>\n",
       "    <tr>\n",
       "      <th>4</th>\n",
       "      <td>Viga V5 10x15x15/9/5.5 - 6.5m</td>\n",
       "      <td>Vigas y Perfiles</td>\n",
       "      <td>9.0</td>\n",
       "    </tr>\n",
       "    <tr>\n",
       "      <th>5</th>\n",
       "      <td>Tubo PVC Desague 160 mm X 3 m</td>\n",
       "      <td>Tubos Desagüe</td>\n",
       "      <td>9.0</td>\n",
       "    </tr>\n",
       "  </tbody>\n",
       "</table>\n",
       "</div>"
      ],
      "text/plain": [
       "                                name          category  quantity\n",
       "0  Varilla Corrugada -  12 mm x 12 m          Varillas     166.0\n",
       "1  Varilla Corrugada -  14 mm x 12 m          Varillas      55.0\n",
       "2   Varilla Corrugada -  8 mm x 12 m          Varillas     133.0\n",
       "3  Varilla Corrugada -  10 mm x 12 m          Varillas      86.0\n",
       "4      Viga V5 10x15x15/9/5.5 - 6.5m  Vigas y Perfiles       9.0\n",
       "5      Tubo PVC Desague 160 mm X 3 m     Tubos Desagüe       9.0"
      ]
     },
     "metadata": {},
     "output_type": "display_data"
    },
    {
     "name": "stdout",
     "output_type": "stream",
     "text": [
      "\t\n",
      "kit número  3\n",
      "porcentaje de compra  0.23548773189706762\n"
     ]
    },
    {
     "data": {
      "text/html": [
       "<div>\n",
       "<style scoped>\n",
       "    .dataframe tbody tr th:only-of-type {\n",
       "        vertical-align: middle;\n",
       "    }\n",
       "\n",
       "    .dataframe tbody tr th {\n",
       "        vertical-align: top;\n",
       "    }\n",
       "\n",
       "    .dataframe thead th {\n",
       "        text-align: right;\n",
       "    }\n",
       "</style>\n",
       "<table border=\"1\" class=\"dataframe\">\n",
       "  <thead>\n",
       "    <tr style=\"text-align: right;\">\n",
       "      <th></th>\n",
       "      <th>name</th>\n",
       "      <th>category</th>\n",
       "      <th>quantity</th>\n",
       "    </tr>\n",
       "  </thead>\n",
       "  <tbody>\n",
       "    <tr>\n",
       "      <th>0</th>\n",
       "      <td>Cemento Selvalegre Tipo IP 50 kg</td>\n",
       "      <td>Cementos</td>\n",
       "      <td>89.0</td>\n",
       "    </tr>\n",
       "    <tr>\n",
       "      <th>1</th>\n",
       "      <td>Tubo PVC Desague 160 mm X 3 m</td>\n",
       "      <td>Tubos Desagüe</td>\n",
       "      <td>9.0</td>\n",
       "    </tr>\n",
       "    <tr>\n",
       "      <th>2</th>\n",
       "      <td>Varilla Corrugada -  10 mm x 12 m</td>\n",
       "      <td>Varillas</td>\n",
       "      <td>86.0</td>\n",
       "    </tr>\n",
       "    <tr>\n",
       "      <th>3</th>\n",
       "      <td>Varilla Corrugada -  14 mm x 12 m</td>\n",
       "      <td>Varillas</td>\n",
       "      <td>55.0</td>\n",
       "    </tr>\n",
       "    <tr>\n",
       "      <th>4</th>\n",
       "      <td>Codo PVC Desague C/E 90 G. X 50 mm</td>\n",
       "      <td>Conexiones Desagüe</td>\n",
       "      <td>37.0</td>\n",
       "    </tr>\n",
       "    <tr>\n",
       "      <th>5</th>\n",
       "      <td>Cemento Superior Tipo GU 50 kg</td>\n",
       "      <td>Cementos</td>\n",
       "      <td>55.0</td>\n",
       "    </tr>\n",
       "  </tbody>\n",
       "</table>\n",
       "</div>"
      ],
      "text/plain": [
       "                                 name            category  quantity\n",
       "0    Cemento Selvalegre Tipo IP 50 kg            Cementos      89.0\n",
       "1       Tubo PVC Desague 160 mm X 3 m       Tubos Desagüe       9.0\n",
       "2   Varilla Corrugada -  10 mm x 12 m            Varillas      86.0\n",
       "3   Varilla Corrugada -  14 mm x 12 m            Varillas      55.0\n",
       "4  Codo PVC Desague C/E 90 G. X 50 mm  Conexiones Desagüe      37.0\n",
       "5      Cemento Superior Tipo GU 50 kg            Cementos      55.0"
      ]
     },
     "metadata": {},
     "output_type": "display_data"
    },
    {
     "name": "stdout",
     "output_type": "stream",
     "text": [
      "\t\n",
      "kit número  4\n",
      "porcentaje de compra  0.18738779174147216\n"
     ]
    },
    {
     "data": {
      "text/html": [
       "<div>\n",
       "<style scoped>\n",
       "    .dataframe tbody tr th:only-of-type {\n",
       "        vertical-align: middle;\n",
       "    }\n",
       "\n",
       "    .dataframe tbody tr th {\n",
       "        vertical-align: top;\n",
       "    }\n",
       "\n",
       "    .dataframe thead th {\n",
       "        text-align: right;\n",
       "    }\n",
       "</style>\n",
       "<table border=\"1\" class=\"dataframe\">\n",
       "  <thead>\n",
       "    <tr style=\"text-align: right;\">\n",
       "      <th></th>\n",
       "      <th>name</th>\n",
       "      <th>category</th>\n",
       "      <th>quantity</th>\n",
       "    </tr>\n",
       "  </thead>\n",
       "  <tbody>\n",
       "    <tr>\n",
       "      <th>0</th>\n",
       "      <td>Bondex® Standard Cerámica x 25 kg</td>\n",
       "      <td>Pegantes Ceramicos</td>\n",
       "      <td>24.0</td>\n",
       "    </tr>\n",
       "    <tr>\n",
       "      <th>1</th>\n",
       "      <td>Bondex® Plus Cerámica x 25 kg</td>\n",
       "      <td>Pegantes Ceramicos</td>\n",
       "      <td>12.0</td>\n",
       "    </tr>\n",
       "    <tr>\n",
       "      <th>2</th>\n",
       "      <td>Multimix de 125 Gris x 25 kg</td>\n",
       "      <td>Morteros</td>\n",
       "      <td>6.0</td>\n",
       "    </tr>\n",
       "    <tr>\n",
       "      <th>3</th>\n",
       "      <td>Bondex® Premium Porcelanato x 25 kg</td>\n",
       "      <td>Pegantes Ceramicos</td>\n",
       "      <td>11.0</td>\n",
       "    </tr>\n",
       "    <tr>\n",
       "      <th>4</th>\n",
       "      <td>Enlumax Capa Gruesa x 40 kg.</td>\n",
       "      <td>Morteros</td>\n",
       "      <td>9.0</td>\n",
       "    </tr>\n",
       "    <tr>\n",
       "      <th>5</th>\n",
       "      <td>Maxiempaste Extra Liso Exterior x 20 kg.</td>\n",
       "      <td>Estucos Exteriores</td>\n",
       "      <td>6.0</td>\n",
       "    </tr>\n",
       "  </tbody>\n",
       "</table>\n",
       "</div>"
      ],
      "text/plain": [
       "                                       name            category  quantity\n",
       "0         Bondex® Standard Cerámica x 25 kg  Pegantes Ceramicos      24.0\n",
       "1             Bondex® Plus Cerámica x 25 kg  Pegantes Ceramicos      12.0\n",
       "2              Multimix de 125 Gris x 25 kg            Morteros       6.0\n",
       "3       Bondex® Premium Porcelanato x 25 kg  Pegantes Ceramicos      11.0\n",
       "4              Enlumax Capa Gruesa x 40 kg.            Morteros       9.0\n",
       "5  Maxiempaste Extra Liso Exterior x 20 kg.  Estucos Exteriores       6.0"
      ]
     },
     "metadata": {},
     "output_type": "display_data"
    }
   ],
   "source": [
    "# Ahora se imprimen los kits con sus respectivas cantidades a comprar\n",
    "pd.set_option('display.max_colwidth', 1000)\n",
    "\n",
    "n = 1\n",
    "for i in kits:\n",
    "    \n",
    "    if sum([products[j]['orders'] for j in i])/6/2228 > 0.1:\n",
    "        print(\"\\t\")\n",
    "        print('kit número ', n)\n",
    "        print('porcentaje de compra ', sum([products[j]['orders'] for j in i])/6/2228)\n",
    "        name = [ products[j]['name'] for j in i ]\n",
    "        category = [ products[j]['category'] for j in i ]\n",
    "        quantity = [ round(products[j]['avg'],0) for j in i ]\n",
    "    \n",
    "    \n",
    "        display(pd.DataFrame({'name': name, 'category': category, 'quantity': quantity}))\n",
    "        n += 1"
   ]
  },
  {
   "cell_type": "code",
   "execution_count": 8,
   "metadata": {},
   "outputs": [
    {
     "name": "stdout",
     "output_type": "stream",
     "text": [
      "7\n"
     ]
    }
   ],
   "source": [
    "categories = set([ products[i]['category'] for j in kits for i in j])\n",
    "print(len(categories))"
   ]
  },
  {
   "cell_type": "code",
   "execution_count": null,
   "metadata": {},
   "outputs": [],
   "source": []
  }
 ],
 "metadata": {
  "kernelspec": {
   "display_name": "Python 3",
   "language": "python",
   "name": "python3"
  },
  "language_info": {
   "codemirror_mode": {
    "name": "ipython",
    "version": 3
   },
   "file_extension": ".py",
   "mimetype": "text/x-python",
   "name": "python",
   "nbconvert_exporter": "python",
   "pygments_lexer": "ipython3",
   "version": "3.8.8"
  }
 },
 "nbformat": 4,
 "nbformat_minor": 4
}
