{
 "cells": [
  {
   "cell_type": "code",
   "execution_count": 90,
   "metadata": {},
   "outputs": [],
   "source": [
    "import json\n",
    "import pandas as pd\n",
    "import h3\n",
    "\n",
    "df = pd.read_csv('macrozones.csv', dtype=str)\n",
    "df = df.reset_index()"
   ]
  },
  {
   "cell_type": "code",
   "execution_count": 91,
   "metadata": {},
   "outputs": [],
   "source": [
    "zones = {\n",
    "    \"COLOMBIA\": {},\n",
    "    \"MEXICO\": {},\n",
    "    \"BRASIL\": {},\n",
    "    \"ECUADOR\": {}\n",
    "}\n",
    "\n",
    "distinct_pc = set()\n",
    "\n",
    "for i in zones:\n",
    "    sub_df = df[df['source_country'] == i]\n",
    "    macrozones = sub_df['macrozone'].unique()\n",
    "    zones[i] = { macro: {} for macro in macrozones }\n",
    "\n",
    "    for j in macrozones:\n",
    "        sub_df_2 = sub_df[sub_df['macrozone'] == j]\n",
    "        microzones = sub_df_2['microzone'].unique()\n",
    "        zones[i][j] = { micro: {} for micro in microzones}\n",
    "\n",
    "        for k in microzones:\n",
    "            sub_df_3 = sub_df_2[sub_df_2['microzone'] == k]\n",
    "            postal_codes = sub_df_3['postal_code'].unique()\n",
    "            zones[i][j][k] = list(postal_codes)\n",
    "            distinct_pc.update(list(postal_codes))"
   ]
  },
  {
   "cell_type": "code",
   "execution_count": 92,
   "metadata": {},
   "outputs": [],
   "source": [
    "postal_codes_h3 = {}\n",
    "\n",
    "mex_files = ['CDMX.geojson', 'JALISCO.geojson', 'MEXICO.geojson', 'COLOMBIA.geojson']\n",
    "\n",
    "\n",
    "for file in mex_files:\n",
    "    with open(file, 'r') as fp:\n",
    "        geojson_file = json.load(fp)\n",
    "\n",
    "    for feature in geojson_file['features']:\n",
    "        try:\n",
    "            pc = feature['properties']['CP']\n",
    "        except:\n",
    "            pc = feature['properties']['Codigo_Pos']\n",
    "        if pc in distinct_pc:\n",
    "            postal_codes_h3[pc] = []\n",
    "            if feature['geometry']['type'] == 'GeometryCollection':\n",
    "                for geo in feature['geometry']['geometries']:\n",
    "                    postal_codes_h3[pc].extend(list(h3.polyfill(geo, 8, True)))\n",
    "                postal_codes_h3[pc] = list(set(postal_codes_h3[pc]))\n",
    "\n",
    "            elif feature['geometry']['type'] == 'MultiPolygon':\n",
    "                for geo in feature['geometry']['coordinates']:\n",
    "                    geo_type = {\n",
    "                        \"type\": 'Polygon',\n",
    "                        \"coordinates\": geo\n",
    "                    }\n",
    "                    postal_codes_h3[pc].extend(list(h3.polyfill(geo_type, 8, True)))\n",
    "                postal_codes_h3[pc] = list(set(postal_codes_h3[pc]))\n",
    "\n",
    "            else:\n",
    "                geo = feature['geometry']\n",
    "                postal_codes_h3[pc].extend(list(h3.polyfill(geo, 8, True)))\n",
    "                postal_codes_h3[pc] = list(set(postal_codes_h3[pc]))"
   ]
  },
  {
   "cell_type": "code",
   "execution_count": 93,
   "metadata": {},
   "outputs": [],
   "source": [
    "final_csv = []\n",
    "cant_find = 0\n",
    "yes_find = 0\n",
    "for country in zones:\n",
    "    for macrozone in zones[country]:\n",
    "        for microzone in zones[country][macrozone]:\n",
    "            for postal_code in zones[country][macrozone][microzone]:\n",
    "                try:\n",
    "                    yes_find += 1\n",
    "                    for h3_cell in postal_codes_h3[postal_code]:\n",
    "                        final_csv.append({\n",
    "                            \"source_country\":country,\n",
    "                            \"macrozone\": macrozone,\n",
    "                            \"microzone\": microzone,\n",
    "                            \"r8_h3\": h3_cell\n",
    "                        })\n",
    "                except:\n",
    "                    cant_find += 1\n",
    "\n",
    "df = pd.DataFrame.from_dict(final_csv)\n",
    "df.to_csv('result_3.csv')"
   ]
  }
 ],
 "metadata": {
  "kernelspec": {
   "display_name": "Python 3.8.10 64-bit",
   "language": "python",
   "name": "python3"
  },
  "language_info": {
   "codemirror_mode": {
    "name": "ipython",
    "version": 3
   },
   "file_extension": ".py",
   "mimetype": "text/x-python",
   "name": "python",
   "nbconvert_exporter": "python",
   "pygments_lexer": "ipython3",
   "version": "3.8.10"
  },
  "orig_nbformat": 4,
  "vscode": {
   "interpreter": {
    "hash": "916dbcbb3f70747c44a77c7bcd40155683ae19c65e1c03b4aa3499c5328201f1"
   }
  }
 },
 "nbformat": 4,
 "nbformat_minor": 2
}
