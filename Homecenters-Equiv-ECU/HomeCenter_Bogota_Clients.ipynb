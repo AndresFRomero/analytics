{
 "cells": [
  {
   "cell_type": "markdown",
   "metadata": {},
   "source": [
    "# Homedeports en MEXICO\n"
   ]
  },
  {
   "cell_type": "code",
   "execution_count": 1,
   "metadata": {},
   "outputs": [],
   "source": [
    "import requests\n",
    "from sklearn.cluster import KMeans\n",
    "from shapely.geometry import Polygon, Point\n",
    "\n",
    "# Se crea la función que genera poligonos de cobertura a partir de coordenadas\n",
    "def isolineGeneration(lat:float, lng: float, cov_type: str, value: float):\n",
    "    \n",
    "    coordinates = 'geo!' + str(lat) + ',' + str(lng)\n",
    "    api_structure = 'https://isoline.route.ls.hereapi.com/routing/7.2/calculateisoline.json'\n",
    "    payload = {\n",
    "    \t\t'apiKey' : 'A6oKk5QyLYkxJ4efaUoDQZjjRNQ2bibTpYA2SE0oxiM',\n",
    "    \t\t'start' : coordinates,\n",
    "            'range': value,\n",
    "            'rangetype':cov_type,\n",
    "            'mode': 'shortest;car;traffic:disabled'\n",
    "        }\n",
    "    response=requests.get(api_structure, params=payload)\n",
    "    response=response.json()\n",
    "    polygon = response['response']['isoline'][0]['component'][0]['shape']\n",
    "    \n",
    "    listPoints = []\n",
    "    for i in polygon:\n",
    "        coors = i.split(\",\")\n",
    "        listPoints.append([ float(coors[1]), float(coors[0])])\n",
    "    \n",
    "    return listPoints"
   ]
  },
  {
   "cell_type": "code",
   "execution_count": 2,
   "metadata": {},
   "outputs": [],
   "source": [
    "# Función que determina si un punto está dentro de un polígono\n",
    "def inside(polygon, lat: float, lng: float):\n",
    "    \n",
    "    # El poligono tiene puntos de lng,lat\n",
    "    testPoint = Point(lng, lat)\n",
    "    \n",
    "    # Si el punto está en la cobertura no pasa nada, de lo contrario se borra\n",
    "    if polygon.contains(testPoint):\n",
    "        return True\n",
    "    else:\n",
    "        return False"
   ]
  },
  {
   "cell_type": "code",
   "execution_count": 3,
   "metadata": {},
   "outputs": [],
   "source": [
    "import json\n",
    "import pandas as pd\n",
    "# Se leen los datos de clientes y de ubicaciones de Homecenter\n",
    "clients = pd.read_csv('clients.csv', index_col = 'id').fillna(0).to_dict(orient = 'index')\n",
    "\n",
    "with open('homecenters.json', 'r', encoding=\"utf8\") as fp:\n",
    "    homecenters = json.load(fp)"
   ]
  },
  {
   "cell_type": "code",
   "execution_count": 4,
   "metadata": {},
   "outputs": [],
   "source": [
    "# Se crean los poligonos de cobertura a 15mins en carro y se verifican que clientes están dentro\n",
    "for i in homecenters:\n",
    "    homecenters[i]['polygon'] = isolineGeneration(homecenters[i]['lat'], homecenters[i]['lng'], 'time', 400)\n",
    "    homecenters[i]['clients'] = []\n",
    "    for j in clients:\n",
    "        if inside(Polygon(homecenters[i]['polygon']), clients[j]['lat'], clients[j]['lng']):\n",
    "            homecenters[i]['clients'].append(clients[j]) "
   ]
  },
  {
   "cell_type": "code",
   "execution_count": 5,
   "metadata": {},
   "outputs": [],
   "source": [
    "# Se crea un archivo json con los poligonos para graficarlos\n",
    "\n",
    "jsonOut = {\"type\": \"FeatureCollection\", \"name\": \"Homecenters Bogota\", \"features\": []}\n",
    "\n",
    "for i in homecenters:\n",
    "    jsonOut['features'].append({\"type\": \"Feature\", \n",
    "                                \"properties\": {\"name\": i},\n",
    "                                \"geometry\": {\n",
    "                                    \"type\": \"Polygon\",\n",
    "                                    \"coordinates\": [homecenters[i]['polygon']]\n",
    "                                }})\n",
    "\n",
    "with open('HC_Polygons.json', 'w') as fp:\n",
    "    json.dump(jsonOut, fp)"
   ]
  },
  {
   "cell_type": "markdown",
   "metadata": {},
   "source": [
    "# Resultados\n",
    "\n",
    "Ahora se analizan los datos obtenidos."
   ]
  },
  {
   "cell_type": "code",
   "execution_count": 6,
   "metadata": {},
   "outputs": [
    {
     "data": {
      "image/png": "[encoded data removed]",
      "text/plain": [
       "<Figure size 1120x400 with 1 Axes>"
      ]
     },
     "metadata": {},
     "output_type": "display_data"
    }
   ],
   "source": [
    "import matplotlib.pyplot as plt\n",
    "\n",
    "# Número de clientes totales en el Universo y # de clientes cercanos a Homecenters\n",
    "plt.figure(figsize=(14, 5), dpi=80)\n",
    "labels = ['Lejos', 'Cercanos a HC']\n",
    "sizes = [len(clients)-sum([len(homecenters[i]['clients']) for i in homecenters]), \n",
    "         sum([len(homecenters[i]['clients']) for i in homecenters])]\n",
    "explode = (0.1, 0)\n",
    "\n",
    "plt.pie(sizes, explode = explode, labels = labels, autopct='%1.1f%%', shadow=True, startangle=90)\n",
    "plt.title('# de Clientes')\n",
    "plt.show()"
   ]
  },
  {
   "cell_type": "code",
   "execution_count": 16,
   "metadata": {},
   "outputs": [
    {
     "name": "stdout",
     "output_type": "stream",
     "text": [
      "Coapa - 0 - 0 - 0\n",
      "Miramontes - 0 - 0 - 0\n",
      "Los Reyes Coyacan - 0 - 0 - 0\n",
      "San Jeronimo - 0 - 0 - 0\n",
      "Av Central - 0 - 0 - 0\n",
      "Patio Santa fe - 1 - 0 - 0.0\n",
      "Mexico Centro - 17 - 7 - 39300.10697752\n",
      "Mexico - 2 - 0 - 0.0\n",
      "Jardin - 18 - 12 - 44605.765617271\n",
      "Fortuna - 28 - 13 - 45943.086417106\n",
      "Lomas verdes - 17 - 7 - 171299.486516545\n",
      "Autopista Mexico - 16 - 6 - 172232.362277198\n",
      "Esmeralda Atizapan - 0 - 0 - 0\n",
      "Aragon Ecatepec - 19 - 10 - 331467.73211030196\n",
      "Hacienda Xalpa - 7 - 6 - 198545.824090752\n",
      "Coacalco - 19 - 13 - 902697.433881634\n",
      "Cauutitlan Izcalli - 4 - 3 - 51666.472842752\n"
     ]
    },
    {
     "data": {
      "text/plain": [
       "<matplotlib.legend.Legend at 0x22621d71e80>"
      ]
     },
     "execution_count": 16,
     "metadata": {},
     "output_type": "execute_result"
    },
    {
     "data": {
      "image/png": "[encoded data removed]",
      "text/plain": [
       "<Figure size 1120x480 with 1 Axes>"
      ]
     },
     "metadata": {
      "needs_background": "light"
     },
     "output_type": "display_data"
    }
   ],
   "source": [
    "# Se calcula el numero de clientes para cada homecenter:\n",
    "plt.figure(figsize=(14, 6), dpi=80)\n",
    "y1, y2, y3, l = [],[],[],[]\n",
    "for i in homecenters:\n",
    "    noBuyers = 0\n",
    "    Buyers = 0\n",
    "    total = 0\n",
    "    for j in homecenters[i]['clients']:\n",
    "        total += j['acum_total']\n",
    "        if j['acum_total'] == 0:\n",
    "            noBuyers += 1\n",
    "        else: Buyers += 1\n",
    "    if (noBuyers+Buyers) >0:\n",
    "        y1.append(noBuyers)\n",
    "        y2.append(Buyers)\n",
    "        y3.append(total)\n",
    "        l.append(i)\n",
    "    print(i, '-', noBuyers,'-', Buyers, '-',total)\n",
    "plt.bar(l, y2, label = 'Buyers', color = 'orange')\n",
    "plt.bar(l, y1, label = 'On Boarding', color = 'lightblue', bottom=y2)\n",
    "\n",
    "plt.ylabel('Clients')\n",
    "plt.title('Clients by HC and Segment')\n",
    "plt.legend()"
   ]
  },
  {
   "cell_type": "code",
   "execution_count": 8,
   "metadata": {},
   "outputs": [
    {
     "name": "stdout",
     "output_type": "stream",
     "text": [
      "{'Coapa': {'Direccion': 'Calz. del Hueso 670, Coapa, Los Robles, Coyoacán, 04870 Ciudad de México, CDMX, México', 'lat': 19.3027383, 'lng': -99.118472}, 'Miramontes': {'Direccion': 'Canal de Miramontes 2053, Coapa, Girasoles III, Coyoacán, 04920 Ciudad de México, CDMX, México', 'lat': 19.3089371, 'lng': -99.1243973}, 'Los Reyes Coyacan': {'Direccion': 'Eje 10 Sur 546, Los Reyes, Coyoacán, 04330 Coyoacan, CDMX, México', 'lat': 19.3355568, 'lng': -99.1574614}, 'San Jeronimo': {'Direccion': 'Av. San Jerónimo esq, Periferico Sur 630, La Otra Banda, 01090 Del. Álvaro Obregón, CDMX, México', 'lat': 19.3283215, 'lng': -99.2099739}, 'Av Central': {'Direccion': 'Av. Central Alta Tensión Del, Alfonso XIII, 01460 Ciudad de México, México', 'lat': 19.3779413, 'lng': -99.1999109}, 'Patio Santa fe': {'Direccion': 'Prolongacion Paseo de la Reforma 400, Santa Fe, Zedec Sta Fé, Álvaro Obregón, 01210 Ciudad de México, CDMX, México', 'lat': 19.3774649, 'lng': -99.2535788}, 'Mexico Centro': {'Direccion': 'Av. del Taller #370, 24 de Abril, Venustiano Carranza, 15980 Ciudad de México, CDMX, México', 'lat': 19.4149545, 'lng': -99.1168775}, 'Mexico': {'Direccion': 'Anillo Perif. 2141, Chinam Pac de Juárez, Iztapalapa, 09208 Ciudad de México, CDMX, México', 'lat': 19.3794046, 'lng': -99.0586722}, 'Jardin': {'Direccion': 'Av. Jardin 245, San Francisco Xocotitla, Azcapotzalco, 02860 Ciudad de México, CDMX, México', 'lat': 19.4642269, 'lng': -99.160128}, 'Fortuna': {'Direccion': 'Av Fortuna 334, Magdalena de las Salinas, Gustavo A. Madero, 07760 Ciudad de México, CDMX, México', 'lat': 19.4834373, 'lng': -99.1334957}, 'Lomas verdes': {'Direccion': 'Av. Lomas Verdes esq Periférico 904, Norte Col, Sta Cruz Acatlan, 53150 Naucalpan de Juárez, Méx., México', 'lat': 19.4858331, 'lng': -99.2369998}, 'Autopista Mexico': {'Direccion': 'Autopista México - Querétaro 3000, Valle Dorado, Hab los Pirules, 54040 Tlalnepantla de Baz, Méx., México', 'lat': 19.5456378, 'lng': -99.2122846}, 'Esmeralda Atizapan': {'Direccion': 'Av. Bosque Esmeralda Ote. #1, Bosque Esmeralda, 52930 Cd López Mateos, Méx., México', 'lat': 19.5485198, 'lng': -99.2891595}, 'Aragon Ecatepec': {'Direccion': 'Multiplaza Aragón, Av. Carlos Hank González 120, Rinconada de Aragon, 55140 Ecatepec de Morelos, Méx., México', 'lat': 19.5296035, 'lng': -99.0283882}, 'Hacienda Xalpa': {'Direccion': 'Avenida Hacienda De Xalpa Fraccionamento, 1, Hacienda del Parque, 54769 Cuautitlán Izcalli, Méx., México', 'lat': 19.60536, 'lng': -99.190948}, 'Coacalco': {'Direccion': 'Vía López Portillo #105Col, Zacuatitla, 55700 San Francisco Coacalco, Méx., México', 'lat': 19.6358255, 'lng': -99.0970571}, 'Cauutitlan Izcalli': {'Direccion': 'Carr. México-Querétaro esq, Av Chalma Col, Jardines de la Hacienda, 54720 Cuautitlán Izcalli, Méx., México', 'lat': 19.6711671, 'lng': -99.2080109}}\n"
     ]
    }
   ],
   "source": [
    "import pandas as pd\n",
    "\n",
    "homC = pd.read_excel('homecentersXLS.xlsx', index_col = 'id').to_dict(orient='index')\n",
    "print(homC)"
   ]
  },
  {
   "cell_type": "code",
   "execution_count": null,
   "metadata": {},
   "outputs": [],
   "source": []
  }
 ],
 "metadata": {
  "kernelspec": {
   "display_name": "Python 3",
   "language": "python",
   "name": "python3"
  },
  "language_info": {
   "codemirror_mode": {
    "name": "ipython",
    "version": 3
   },
   "file_extension": ".py",
   "mimetype": "text/x-python",
   "name": "python",
   "nbconvert_exporter": "python",
   "pygments_lexer": "ipython3",
   "version": "3.8.5"
  }
 },
 "nbformat": 4,
 "nbformat_minor": 4
}
