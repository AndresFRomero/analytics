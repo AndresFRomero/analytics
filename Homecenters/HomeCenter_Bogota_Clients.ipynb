{
 "cells": [
  {
   "cell_type": "markdown",
   "metadata": {},
   "source": [
    "# Homecenters en Bogotá\n",
    "\n",
    "En Bogotá hay 8 Homecenters:\n",
    "\n",
    "|   |      Nombre      |                     Dirección                     |       Coordenadas       |\n",
    "|---|:----------------:|:-------------------------------------------------:|:-----------------------:|\n",
    "| 1 |     Calle 80     |                  Ak 68 # 80 - 77                  |  [4.685041,-74.0811259] |\n",
    "| 2 |     Calle 170    |              Autopista Nte. #175 - 50             |  [4.755462,-74.0492417] |\n",
    "| 3 |  Avenida 68 sur  |                 Cra 68 # 37-37 Sur                |  [4.604073,-74.1324518] |\n",
    "| 4 |      Dorado      |                 Calle 50 # 82 - 55                |  [4.679019,-74.1178289] |\n",
    "| 5 | CC Mallplaza NQS |                  Cl. 19 # 28 - 80                 |  [4.618953,-74.0887638] |\n",
    "| 6 |     Cedritos     |                 Ak. 9 # 152a - 23                 |  [4.730568,-74.0349332] |\n",
    "| 7 |       Suba       |           Avenida Carrera 104 # 148 - 07          |  [4.751429,-74.0949194] |\n",
    "| 8 |      Tintal      |                Calle 10B # 86 - 50                |  [4.6515264,-74.148429] |\n",
    "| 9 | Soacha CC Mercurio  |        Cra. 7 # 32 - 35 Local 108       |  [4.588613,-74.205057] |\n",
    "| 10 | Cajica  |        Km 27 Vía Chía - Cajicá       |  [4.8921433,-74.0346673] |\n"
   ]
  },
  {
   "cell_type": "code",
   "execution_count": 21,
   "metadata": {},
   "outputs": [],
   "source": [
    "import requests\n",
    "from sklearn.cluster import KMeans\n",
    "from shapely.geometry import Polygon, Point\n",
    "\n",
    "# Se crea la función que genera poligonos de cobertura a partir de coordenadas\n",
    "def isolineGeneration(lat:float, lng: float, cov_type: str, value: float):\n",
    "    \n",
    "    coordinates = 'geo!' + str(lat) + ',' + str(lng)\n",
    "    api_structure = 'https://isoline.route.ls.hereapi.com/routing/7.2/calculateisoline.json'\n",
    "    payload = {\n",
    "    \t\t'apiKey' : 'A6oKk5QyLYkxJ4efaUoDQZjjRNQ2bibTpYA2SE0oxiM',\n",
    "    \t\t'start' : coordinates,\n",
    "            'range': value,\n",
    "            'rangetype':cov_type,\n",
    "            'mode': 'shortest;car;traffic:disabled'\n",
    "        }\n",
    "    response=requests.get(api_structure, params=payload)\n",
    "    response=response.json()\n",
    "    polygon = response['response']['isoline'][0]['component'][0]['shape']\n",
    "    \n",
    "    listPoints = []\n",
    "    for i in polygon:\n",
    "        coors = i.split(\",\")\n",
    "        listPoints.append([ float(coors[1]), float(coors[0])])\n",
    "    \n",
    "    return listPoints"
   ]
  },
  {
   "cell_type": "code",
   "execution_count": 22,
   "metadata": {},
   "outputs": [],
   "source": [
    "# Función que determina si un punto está dentro de un polígono\n",
    "def inside(polygon, lat: float, lng: float):\n",
    "    \n",
    "    # El poligono tiene puntos de lng,lat\n",
    "    testPoint = Point(lng, lat)\n",
    "    \n",
    "    # Si el punto está en la cobertura no pasa nada, de lo contrario se borra\n",
    "    if polygon.contains(testPoint):\n",
    "        return True\n",
    "    else:\n",
    "        return False"
   ]
  },
  {
   "cell_type": "code",
   "execution_count": 23,
   "metadata": {},
   "outputs": [],
   "source": [
    "import json\n",
    "import pandas as pd\n",
    "# Se leen los datos de clientes y de ubicaciones de Homecenter\n",
    "clients = pd.read_csv('clients.csv', index_col = 'id').fillna(0).to_dict(orient = 'index')\n",
    "\n",
    "with open('homecenters.json', 'r') as fp:\n",
    "    homecenters = json.load(fp)"
   ]
  },
  {
   "cell_type": "code",
   "execution_count": 24,
   "metadata": {},
   "outputs": [],
   "source": [
    "# Se crean los poligonos de cobertura a 15mins en carro y se verifican que clientes están dentro\n",
    "for i in homecenters:\n",
    "    homecenters[i]['polygon'] = isolineGeneration(homecenters[i]['lat'], homecenters[i]['lng'], 'time', 400)\n",
    "    homecenters[i]['clients'] = []\n",
    "    for j in clients:\n",
    "        if inside(Polygon(homecenters[i]['polygon']), clients[j]['lat'], clients[j]['lng']):\n",
    "            homecenters[i]['clients'].append(clients[j]) "
   ]
  },
  {
   "cell_type": "code",
   "execution_count": 25,
   "metadata": {},
   "outputs": [],
   "source": [
    "# Se crea un archivo json con los poligonos para graficarlos\n",
    "\n",
    "jsonOut = {\"type\": \"FeatureCollection\", \"name\": \"Homecenters Bogota\", \"features\": []}\n",
    "\n",
    "for i in homecenters:\n",
    "    jsonOut['features'].append({\"type\": \"Feature\", \n",
    "                                \"properties\": {\"name\": i},\n",
    "                                \"geometry\": {\n",
    "                                    \"type\": \"Polygon\",\n",
    "                                    \"coordinates\": [homecenters[i]['polygon']]\n",
    "                                }})\n",
    "\n",
    "with open('HC_Polygons.json', 'w') as fp:\n",
    "    json.dump(jsonOut, fp)"
   ]
  },
  {
   "cell_type": "markdown",
   "metadata": {},
   "source": [
    "# Resultados\n",
    "\n",
    "Ahora se analizan los datos obtenidos."
   ]
  },
  {
   "cell_type": "code",
   "execution_count": 39,
   "metadata": {},
   "outputs": [
    {
     "data": {
      "image/png": "[encoded data removed]",
      "text/plain": [
       "<Figure size 1120x400 with 1 Axes>"
      ]
     },
     "metadata": {},
     "output_type": "display_data"
    }
   ],
   "source": [
    "import matplotlib.pyplot as plt\n",
    "\n",
    "# Número de clientes totales en el Universo y # de clientes cercanos a Homecenters\n",
    "plt.figure(figsize=(14, 5), dpi=80)\n",
    "labels = ['Lejos', 'Cercanos a HC']\n",
    "sizes = [len(clients)-sum([len(homecenters[i]['clients']) for i in homecenters]), \n",
    "         sum([len(homecenters[i]['clients']) for i in homecenters])]\n",
    "explode = (0.1, 0)\n",
    "\n",
    "plt.pie(sizes, explode = explode, labels = labels, autopct='%1.1f%%', shadow=True, startangle=90)\n",
    "plt.title('# de Clientes')\n",
    "plt.show()"
   ]
  },
  {
   "cell_type": "code",
   "execution_count": 38,
   "metadata": {},
   "outputs": [
    {
     "name": "stdout",
     "output_type": "stream",
     "text": [
      "Calle 80 125 79 2050780722.1259418\n",
      "Calle 170 35 50 415113074.8221037\n",
      "Avenida 68 sur 59 59 1410041417.324928\n",
      "Dorado 53 41 1693238780.0831401\n",
      "CC Mallplaza NQS 140 90 2514395159.6811414\n",
      "Cedritos 59 67 589188249.5049729\n",
      "Suba 82 86 1104190627.2928374\n",
      "Tintal 20 23 781536353.4559418\n",
      "Soacha CC Mercurio 52 91 1358846427.4362218\n",
      "Cajica 1 0 0.0\n"
     ]
    },
    {
     "data": {
      "text/plain": [
       "<matplotlib.legend.Legend at 0x16cc3fb8b50>"
      ]
     },
     "execution_count": 38,
     "metadata": {},
     "output_type": "execute_result"
    },
    {
     "data": {
      "image/png": "[encoded data removed]",
      "text/plain": [
       "<Figure size 1120x400 with 1 Axes>"
      ]
     },
     "metadata": {
      "needs_background": "light"
     },
     "output_type": "display_data"
    }
   ],
   "source": [
    "# Se calcula el numero de clientes para cada homecenter:\n",
    "plt.figure(figsize=(14, 5), dpi=80)\n",
    "y1, y2, y3, l = [],[],[],[i for i in homecenters]\n",
    "for i in homecenters:\n",
    "    noBuyers = 0\n",
    "    Buyers = 0\n",
    "    total = 0\n",
    "    for j in homecenters[i]['clients']:\n",
    "        total += j['acum_total']\n",
    "        if j['segment'] == 'on boarding':\n",
    "            noBuyers += 1\n",
    "        else: Buyers += 1\n",
    "    y1.append(noBuyers)\n",
    "    y2.append(Buyers)\n",
    "    y3.append(total)\n",
    "    print(i, noBuyers, Buyers, total)\n",
    "plt.bar(l, y2, label = 'Buyers', color = 'orange')\n",
    "plt.bar(l, y1, label = 'On Boarding', color = 'lightblue', bottom=y2)\n",
    "\n",
    "plt.ylabel('Clients')\n",
    "plt.title('Clients by HC and Segment')\n",
    "plt.legend()"
   ]
  },
  {
   "cell_type": "code",
   "execution_count": null,
   "metadata": {},
   "outputs": [],
   "source": []
  }
 ],
 "metadata": {
  "kernelspec": {
   "display_name": "Python 3",
   "language": "python",
   "name": "python3"
  },
  "language_info": {
   "codemirror_mode": {
    "name": "ipython",
    "version": 3
   },
   "file_extension": ".py",
   "mimetype": "text/x-python",
   "name": "python",
   "nbconvert_exporter": "python",
   "pygments_lexer": "ipython3",
   "version": "3.8.5"
  }
 },
 "nbformat": 4,
 "nbformat_minor": 4
}
