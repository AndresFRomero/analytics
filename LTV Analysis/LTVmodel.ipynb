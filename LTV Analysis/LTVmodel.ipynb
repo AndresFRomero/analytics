{
 "cells": [
  {
   "cell_type": "code",
   "execution_count": null,
   "metadata": {},
   "outputs": [],
   "source": [
    "# Libraries\n",
    "\n",
    "import pandas as pd\n",
    "import json     \n",
    "import snowflake.connector\n",
    "import datetime\n",
    "\n",
    "#----------CONNECTION TO SNOWFLAKE-------------\n",
    "SF_ACCOUNT = 'gfa04036.us-east-1'\n",
    "SF_WH = 'TRANSFORMING'\n",
    "SF_USERNAME = 'DBT_USER'\n",
    "SF_PASSWORD = '2C>`8Q!8y*Sz]h/):Xxy&WNJv'\n",
    "\n",
    "# Connecting to Snowflake using the default authenticator\n",
    "ctx = snowflake.connector.connect(\n",
    "  user=SF_USERNAME,    #username,\n",
    "  password=SF_PASSWORD,    #password,\n",
    "  account=SF_ACCOUNT,\n",
    "  warehouse=SF_WH,\n",
    "  database='ANALYTICS',\n",
    "  schema='PROD_STAGING'\n",
    ")\n",
    "\n",
    "cur=ctx.cursor()"
   ]
  },
  {
   "cell_type": "code",
   "execution_count": null,
   "metadata": {},
   "outputs": [],
   "source": []
  }
 ],
 "metadata": {
  "language_info": {
   "name": "python"
  },
  "orig_nbformat": 4
 },
 "nbformat": 4,
 "nbformat_minor": 2
}
