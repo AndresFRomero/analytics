{
 "cells": [
  {
   "cell_type": "markdown",
   "source": [
    "# Time Matrix Filler\n",
    "La matriz de distancias es el input mas importante de los problemas de ruteo de vehículos. Dicha matriz indica cuánto es la distancia entre 2 puntos tanto en kilómetros como en minutos. "
   ],
   "metadata": {}
  }
 ],
 "metadata": {
  "orig_nbformat": 4,
  "language_info": {
   "name": "python"
  }
 },
 "nbformat": 4,
 "nbformat_minor": 2
}