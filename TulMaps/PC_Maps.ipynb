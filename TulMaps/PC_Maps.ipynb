{
 "cells": [
  {
   "cell_type": "markdown",
   "metadata": {},
   "source": [
    "## **Códigos postales para Holistics - Colombia**\n",
    "Solo en Colombia se usan los codigos postales para crear visualizaciones en Holistics, en los demás paises se empezará con tecnología H3 de una vez.\n"
   ]
  },
  {
   "cell_type": "code",
   "execution_count": 6,
   "metadata": {},
   "outputs": [],
   "source": [
    "# Lectura del archivo de códigos postales completo y librerías\n",
    "import json\n",
    "with open ('CODIGO_POSTAL_COMPLETA.geojson', 'r') as fp:\n",
    "    postal_codes = json.load(fp)\n",
    "\n",
    "with open ('warehouse_pcs.json', 'r') as fp:\n",
    "    warehouse_pcs = json.load(fp)"
   ]
  },
  {
   "cell_type": "code",
   "execution_count": 8,
   "metadata": {},
   "outputs": [],
   "source": [
    "# Generación de sub-mapas, uno para cada bodega\n",
    "for k in warehouse_pcs:\n",
    "    listFeatures = []\n",
    "    for i in postal_codes['features']:\n",
    "        if i['properties']['Codigo_Pos'] in warehouse_pcs[k]:\n",
    "            listFeatures.append(i)\n",
    "    \n",
    "    with open(k+'.geojson', 'w') as fp:\n",
    "        json.dump({\n",
    "            \"type\": \"FeatureCollection\",\n",
    "            \"name\": k,\n",
    "            \"crs\": { \"type\": \"name\", \"properties\": { \"name\": k } },\n",
    "            \"features\": listFeatures}\n",
    "        , fp)"
   ]
  }
 ],
 "metadata": {
  "interpreter": {
   "hash": "937962e8a5a784c1118c67fdadb893054edd6cc43e6c682dcaf01709dfd34737"
  },
  "kernelspec": {
   "display_name": "Python 3.8.10 64-bit (windows store)",
   "name": "python3"
  },
  "language_info": {
   "codemirror_mode": {
    "name": "ipython",
    "version": 3
   },
   "file_extension": ".py",
   "mimetype": "text/x-python",
   "name": "python",
   "nbconvert_exporter": "python",
   "pygments_lexer": "ipython3",
   "version": "3.8.10"
  },
  "orig_nbformat": 4
 },
 "nbformat": 4,
 "nbformat_minor": 2
}
