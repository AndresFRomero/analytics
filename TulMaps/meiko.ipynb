{
 "cells": [
  {
   "cell_type": "code",
   "execution_count": 7,
   "metadata": {},
   "outputs": [],
   "source": [
    "import h3\n",
    "\n",
    "# Write data into Snowflake table\n",
    "import snowflake.connector\n",
    "import pandas as pd\n",
    "\n",
    "#----------CONNECTION TO SNOWFLAKE-------------\n",
    "SF_ACCOUNT = 'gfa04036.us-east-1'\n",
    "SF_WH = 'TRANSFORMING'\n",
    "SF_USERNAME = 'DBT_USER'\n",
    "SF_PASSWORD = '2C>`8Q!8y*Sz]h/):Xxy&WNJv'\n",
    "\n",
    "# Connecting to Snowflake using the default authenticator\n",
    "ctx = snowflake.connector.connect(\n",
    "  user=SF_USERNAME,    #username,\n",
    "  password=SF_PASSWORD,    #password,\n",
    "  account=SF_ACCOUNT,\n",
    "  warehouse=SF_WH,\n",
    "  database='ANALYTICS',\n",
    "  schema='PROD_STAGING'\n",
    ")\n",
    "\n",
    "cur=ctx.cursor()"
   ]
  },
  {
   "cell_type": "code",
   "execution_count": 8,
   "metadata": {},
   "outputs": [
    {
     "name": "stdout",
     "output_type": "stream",
     "text": [
      "13065\n"
     ]
    }
   ],
   "source": [
    "# # Reading data\n",
    "# cur=ctx.cursor()\n",
    "\n",
    "# # Lets aggregate the metering data for Dominion Power up to the day level\n",
    "# #sql = \"select date_trunc('day', STARTTIME), count(*) from trips_vw\" +\\\n",
    "# #        \" group by date_trunc('day', STARTTIME)\" +\\\n",
    "# #        \" order by date_trunc('day', STARTTIME)\"\n",
    "# sql =   \"\"\"\n",
    "#         SELECT\n",
    "#             *\n",
    "#         FROM raw.co_meiko.cali\n",
    "#         \"\"\"\n",
    "\n",
    "# cur.execute(sql)\n",
    "\n",
    "# # Fetch the result set from the cursor and deliver it as the Pandas DataFrame.\n",
    "# clients = cur.fetch_pandas_all()\n",
    "# clients.reset_index(inplace=True)\n",
    "# clients = clients.to_dict(orient = 'index')\n",
    "\n",
    "clients = pd.read_csv('Meiko Total COL.csv')\n",
    "clients.reset_index(inplace=True)\n",
    "clients = clients.to_dict(orient='index')\n",
    "\n",
    "# For each client, try to write the cell\n",
    "for i in clients:\n",
    "    clients[i]['r12_h3'] = h3.geo_to_h3(clients[i]['LATITUD'], clients[i]['LONGITUDE'], 12)\n",
    "    clients[i]['r11_h3'] = h3.geo_to_h3(clients[i]['LATITUD'], clients[i]['LONGITUDE'], 11)\n",
    "    clients[i]['ID_MEIKO'] = clients[i]['idEstablecimientoMeiko']\n",
    "\n",
    "print(len(clients))"
   ]
  },
  {
   "cell_type": "code",
   "execution_count": 9,
   "metadata": {},
   "outputs": [
    {
     "name": "stdout",
     "output_type": "stream",
     "text": [
      "Flushing 10000 records:  10000\n",
      "Records updated successfully 13065\n"
     ]
    },
    {
     "data": {
      "text/plain": [
       "True"
      ]
     },
     "execution_count": 9,
     "metadata": {},
     "output_type": "execute_result"
    }
   ],
   "source": [
    "ctx = snowflake.connector.connect(\n",
    "  user=SF_USERNAME,    #username,\n",
    "  password=SF_PASSWORD,    #password,\n",
    "  account=SF_ACCOUNT,\n",
    "  warehouse=SF_WH,\n",
    "  database='ANALYTICS',\n",
    "  schema='PROD_STAGING'\n",
    ")\n",
    "\n",
    "cur=ctx.cursor()\n",
    "sql = \"\"\" CREATE OR REPLACE TABLE stg_py_meiko_h3_cells (\n",
    "                source_country varchar(1020),\n",
    "                meiko_id number(38,0),\n",
    "                r11_h3 varchar(1020),\n",
    "                r12_h3 varchar(1020)) \"\"\"\n",
    "\n",
    "cur.execute(sql)\n",
    "#DataFrame of the needed results to update in the same orde\n",
    "# multiple records to be updated in tuple format\n",
    "sql = \"INSERT INTO stg_py_meiko_h3_cells VALUES\"\n",
    "count = 0\n",
    "for i in clients:\n",
    "    count += 1\n",
    "    sql += \"(\" \\\n",
    "            + \"'\" + \"COLOMBIA'\" + \",\" \\\n",
    "            + \"'\" + str(clients[i]['ID_MEIKO']) + \"'\" + \",\" \\\n",
    "            + \"'\" + clients[i]['r11_h3'] + \"'\" + \",\"  \\\n",
    "            + \"'\" + clients[i]['r12_h3'] + \"'\" \\\n",
    "            + \")\"\n",
    "    if (count % 10000 == 0):\n",
    "                cur.execute(sql)\n",
    "                print(\"Flushing 10000 records: \", count)\n",
    "                sql = \"INSERT INTO stg_py_meiko_h3_cells VALUES \"\n",
    "    else:\n",
    "        if count < len(clients):\n",
    "            sql += \",\"\n",
    "\n",
    "cur.execute(sql)    \n",
    "print(\"Records updated successfully\", count)\n",
    "cur.close()"
   ]
  }
 ],
 "metadata": {
  "kernelspec": {
   "display_name": "Python 3.8.10 64-bit",
   "language": "python",
   "name": "python3"
  },
  "language_info": {
   "codemirror_mode": {
    "name": "ipython",
    "version": 3
   },
   "file_extension": ".py",
   "mimetype": "text/x-python",
   "name": "python",
   "nbconvert_exporter": "python",
   "pygments_lexer": "ipython3",
   "version": "3.8.10"
  },
  "orig_nbformat": 4,
  "vscode": {
   "interpreter": {
    "hash": "916dbcbb3f70747c44a77c7bcd40155683ae19c65e1c03b4aa3499c5328201f1"
   }
  }
 },
 "nbformat": 4,
 "nbformat_minor": 2
}
