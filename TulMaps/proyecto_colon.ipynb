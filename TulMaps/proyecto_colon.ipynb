{
 "cells": [
  {
   "cell_type": "code",
   "execution_count": 31,
   "metadata": {},
   "outputs": [
    {
     "name": "stdout",
     "output_type": "stream",
     "text": [
      "375\n"
     ]
    }
   ],
   "source": [
    "import pandas as pd\n",
    "import json\n",
    "import h3\n",
    "\n",
    "\n",
    "full_clients = pd.read_csv('Meiko Total COL.csv', index_col='idEstablecimientoMeiko').to_dict(orient = 'index')\n",
    "match_ids = list(pd.read_csv('proyecto_colon_engativa.csv').MEIKO_ID)\n",
    "\n",
    "print(len(match_ids))"
   ]
  },
  {
   "cell_type": "code",
   "execution_count": 30,
   "metadata": {},
   "outputs": [],
   "source": [
    "h3_warehouse = h3.geo_to_h3(4.6961087,-74.1786334,10)\n",
    "\n",
    "json_test = {\n",
    "    \"fleet\": [{\n",
    "        \"uuid\": \"3006d1d7-1658-48e7-99a6-925664fdd95a\",\n",
    "        \"name\": \"GrupoBrigada\",\n",
    "        \"weight\": 18,\n",
    "        \"time\": 480,\n",
    "        \"length\": 100,\n",
    "        \"width\": 1000,\n",
    "        \"height\": 100,\n",
    "        \"volume\": 1000000,\n",
    "        \"cost\": 100000,\n",
    "        \"quantity\": 17,\n",
    "        \"exceptions\": []\n",
    "    }],\n",
    "    \"warehouse\": {\n",
    "        \"uuid\": \"8ac35236-ee24-40ef-877e-3b78ca7e2c6e\",\n",
    "        \"name\": \"Bodega Fontibon\",\n",
    "        \"h3r10\": h3_warehouse\n",
    "    },\n",
    "    \"packages\": []\n",
    "}\n",
    "\n",
    "for id in match_ids:\n",
    "    json_test['packages'].append({\n",
    "        \"uuid\":id,\n",
    "        \"db\": \"0,1440\",\n",
    "        \"start\": 0,\n",
    "        \"end\": 1440,\n",
    "        \"h3r10\": h3.geo_to_h3(full_clients[id]['LATITUD'], full_clients[id]['LONGITUDE'], 10),\n",
    "        \"total_weight\": 1,\n",
    "        \"total_volume\": 1,\n",
    "        \"max_length\"  : 1,\n",
    "        \"max_width\"  : 1,\n",
    "        \"max_height\" : 1,\n",
    "        \"service_time\": 15,\n",
    "        \"products\": [{\n",
    "            \"uuid\": \"none\",\n",
    "            \"weight\": 1,\n",
    "            \"length\": 1,\n",
    "            \"width\": 1,\n",
    "            \"height\": 1,\n",
    "            \"q\": 1\n",
    "        }]\n",
    "    })\n",
    "\n",
    "with open('proyecto_colon_kennedy.json', 'w') as fp:\n",
    "    json.dump(json_test, fp)\n"
   ]
  }
 ],
 "metadata": {
  "kernelspec": {
   "display_name": "Python 3.8.10 64-bit",
   "language": "python",
   "name": "python3"
  },
  "language_info": {
   "codemirror_mode": {
    "name": "ipython",
    "version": 3
   },
   "file_extension": ".py",
   "mimetype": "text/x-python",
   "name": "python",
   "nbconvert_exporter": "python",
   "pygments_lexer": "ipython3",
   "version": "3.8.10"
  },
  "orig_nbformat": 4,
  "vscode": {
   "interpreter": {
    "hash": "916dbcbb3f70747c44a77c7bcd40155683ae19c65e1c03b4aa3499c5328201f1"
   }
  }
 },
 "nbformat": 4,
 "nbformat_minor": 2
}
