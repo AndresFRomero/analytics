{
 "cells": [
  {
   "cell_type": "code",
   "execution_count": null,
   "id": "eb1de1f9",
   "metadata": {},
   "outputs": [],
   "source": [
    "!pip install --ignore-installed tornado"
   ]
  },
  {
   "cell_type": "code",
   "execution_count": null,
   "id": "f3c3cba3",
   "metadata": {},
   "outputs": [],
   "source": []
  }
 ],
 "metadata": {
  "kernelspec": {
   "display_name": "Python 3",
   "language": "python",
   "name": "python3"
  }
 },
 "nbformat": 4,
 "nbformat_minor": 5
}
