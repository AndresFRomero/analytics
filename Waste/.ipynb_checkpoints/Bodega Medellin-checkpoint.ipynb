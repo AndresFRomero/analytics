{
 "cells": [
  {
   "cell_type": "markdown",
   "id": "13233db0",
   "metadata": {},
   "source": [
    "## Bodega Medellín - Waste"
   ]
  },
  {
   "cell_type": "code",
   "execution_count": 21,
   "id": "1cd436c4",
   "metadata": {},
   "outputs": [],
   "source": [
    "import truckRoutingService as trs\n",
    "import matplotlib.pyplot as plt\n",
    "import pandas as pd\n",
    "import json"
   ]
  },
  {
   "cell_type": "code",
   "execution_count": 22,
   "id": "8727e196",
   "metadata": {},
   "outputs": [],
   "source": [
    "packages = pd.read_excel('3-09.xlsx', index_col = 'id').to_dict(orient = 'index')\n",
    "for i in packages:\n",
    "    packages[i]['coordinates'] = [packages[i]['lat'], packages[i]['lng']]\n",
    "    \n",
    "data = {\n",
    "\t\"fleet\": {},\n",
    "\t\"warehouse\": {\n",
    "\t\t\"name\": \"Bodega Medellin\",\n",
    "\t\t\"coordinates\": [6.1894463,-75.6020258],\n",
    "\t\t\"maxIter\": 5000,\n",
    "\t\t\"depht\": 15,\n",
    "\t\t\"tax\": 84000\n",
    "\t},\n",
    "    \"packages\" : packages\n",
    " }"
   ]
  },
  {
   "cell_type": "code",
   "execution_count": 23,
   "id": "1b8872f7",
   "metadata": {},
   "outputs": [],
   "source": [
    "TRS = trs.RoutingTruckService()\n",
    "sol = TRS.initTruckRouting(data)"
   ]
  },
  {
   "cell_type": "code",
   "execution_count": 24,
   "id": "20caaafe",
   "metadata": {},
   "outputs": [
    {
     "name": "stdout",
     "output_type": "stream",
     "text": [
      "Turbo :  8\n",
      "Infac :  2\n",
      "Turbo_Extra_Dim :  5\n",
      "Sencillo :  1\n",
      "Total:  16\n"
     ]
    },
    {
     "data": {
      "image/png": "[encoded data removed]",
      "text/plain": [
       "<Figure size 432x288 with 1 Axes>"
      ]
     },
     "metadata": {
      "needs_background": "light"
     },
     "output_type": "display_data"
    }
   ],
   "source": [
    "# Numero de rutas por tipo de camión\n",
    "\n",
    "vehicles = list(set([ i['truck'] for i in sol ]))\n",
    "count = { i:0 for i in vehicles }\n",
    "\n",
    "for i in sol:\n",
    "    count[i['truck']] += 1\n",
    "plt.bar(vehicles, [ count[i] for i in vehicles])\n",
    "for i in count:\n",
    "    print(i, \": \", count[i])\n",
    "print('Total: ', len(sol))"
   ]
  },
  {
   "cell_type": "code",
   "execution_count": 26,
   "id": "0e3a1bbc",
   "metadata": {},
   "outputs": [
    {
     "name": "stdout",
     "output_type": "stream",
     "text": [
      "Turbo :  8\n",
      "Infac :  2\n",
      "Turbo_Extra_Dim :  5\n",
      "Sencillo :  1\n",
      "Total:  16\n"
     ]
    },
    {
     "data": {
      "image/png": "[encoded data removed]",
      "text/plain": [
       "<Figure size 432x288 with 1 Axes>"
      ]
     },
     "metadata": {
      "needs_background": "light"
     },
     "output_type": "display_data"
    }
   ],
   "source": [
    "# Numero de paquetes en cada ruta\n",
    "countP = { i:0 for i in vehicles }\n",
    "\n",
    "for i in sol:\n",
    "    countP[i['truck']] += len(i['packages'])\n",
    "plt.bar(vehicles, [ countP[i]/count[i]  for i in vehicles])\n",
    "for i in count:\n",
    "    print(i, \": \", count[i])\n",
    "print('Total: ', len(sol))"
   ]
  },
  {
   "cell_type": "code",
   "execution_count": 43,
   "id": "4c3fb803",
   "metadata": {},
   "outputs": [
    {
     "data": {
      "text/html": [
       "<div>\n",
       "<style scoped>\n",
       "    .dataframe tbody tr th:only-of-type {\n",
       "        vertical-align: middle;\n",
       "    }\n",
       "\n",
       "    .dataframe tbody tr th {\n",
       "        vertical-align: top;\n",
       "    }\n",
       "\n",
       "    .dataframe thead th {\n",
       "        text-align: right;\n",
       "    }\n",
       "</style>\n",
       "<table border=\"1\" class=\"dataframe\">\n",
       "  <thead>\n",
       "    <tr style=\"text-align: right;\">\n",
       "      <th></th>\n",
       "      <th>Truck</th>\n",
       "      <th>Time</th>\n",
       "      <th>Load</th>\n",
       "      <th>Packages</th>\n",
       "    </tr>\n",
       "  </thead>\n",
       "  <tbody>\n",
       "    <tr>\n",
       "      <th>0</th>\n",
       "      <td>Turbo</td>\n",
       "      <td>1.72</td>\n",
       "      <td>1767</td>\n",
       "      <td>2</td>\n",
       "    </tr>\n",
       "    <tr>\n",
       "      <th>1</th>\n",
       "      <td>Turbo_Extra_Dim</td>\n",
       "      <td>5.57</td>\n",
       "      <td>6832</td>\n",
       "      <td>6</td>\n",
       "    </tr>\n",
       "    <tr>\n",
       "      <th>2</th>\n",
       "      <td>Turbo</td>\n",
       "      <td>2.67</td>\n",
       "      <td>3112</td>\n",
       "      <td>8</td>\n",
       "    </tr>\n",
       "    <tr>\n",
       "      <th>3</th>\n",
       "      <td>Turbo</td>\n",
       "      <td>3.62</td>\n",
       "      <td>4860</td>\n",
       "      <td>1</td>\n",
       "    </tr>\n",
       "    <tr>\n",
       "      <th>4</th>\n",
       "      <td>Turbo</td>\n",
       "      <td>2.67</td>\n",
       "      <td>3815</td>\n",
       "      <td>5</td>\n",
       "    </tr>\n",
       "    <tr>\n",
       "      <th>5</th>\n",
       "      <td>Turbo_Extra_Dim</td>\n",
       "      <td>5.55</td>\n",
       "      <td>6403</td>\n",
       "      <td>18</td>\n",
       "    </tr>\n",
       "    <tr>\n",
       "      <th>6</th>\n",
       "      <td>Turbo</td>\n",
       "      <td>5.90</td>\n",
       "      <td>5027</td>\n",
       "      <td>13</td>\n",
       "    </tr>\n",
       "    <tr>\n",
       "      <th>7</th>\n",
       "      <td>Turbo</td>\n",
       "      <td>4.95</td>\n",
       "      <td>4976</td>\n",
       "      <td>7</td>\n",
       "    </tr>\n",
       "    <tr>\n",
       "      <th>8</th>\n",
       "      <td>Sencillo</td>\n",
       "      <td>5.87</td>\n",
       "      <td>9449</td>\n",
       "      <td>10</td>\n",
       "    </tr>\n",
       "    <tr>\n",
       "      <th>9</th>\n",
       "      <td>Turbo</td>\n",
       "      <td>4.15</td>\n",
       "      <td>2436</td>\n",
       "      <td>7</td>\n",
       "    </tr>\n",
       "    <tr>\n",
       "      <th>10</th>\n",
       "      <td>Turbo_Extra_Dim</td>\n",
       "      <td>5.27</td>\n",
       "      <td>7065</td>\n",
       "      <td>12</td>\n",
       "    </tr>\n",
       "    <tr>\n",
       "      <th>11</th>\n",
       "      <td>Infac</td>\n",
       "      <td>0.93</td>\n",
       "      <td>170</td>\n",
       "      <td>1</td>\n",
       "    </tr>\n",
       "    <tr>\n",
       "      <th>12</th>\n",
       "      <td>Infac</td>\n",
       "      <td>0.93</td>\n",
       "      <td>325</td>\n",
       "      <td>1</td>\n",
       "    </tr>\n",
       "    <tr>\n",
       "      <th>13</th>\n",
       "      <td>Turbo_Extra_Dim</td>\n",
       "      <td>5.95</td>\n",
       "      <td>7374</td>\n",
       "      <td>7</td>\n",
       "    </tr>\n",
       "    <tr>\n",
       "      <th>14</th>\n",
       "      <td>Turbo</td>\n",
       "      <td>4.03</td>\n",
       "      <td>4384</td>\n",
       "      <td>12</td>\n",
       "    </tr>\n",
       "    <tr>\n",
       "      <th>15</th>\n",
       "      <td>Turbo_Extra_Dim</td>\n",
       "      <td>5.63</td>\n",
       "      <td>5519</td>\n",
       "      <td>14</td>\n",
       "    </tr>\n",
       "  </tbody>\n",
       "</table>\n",
       "</div>"
      ],
      "text/plain": [
       "              Truck  Time  Load  Packages\n",
       "0             Turbo  1.72  1767         2\n",
       "1   Turbo_Extra_Dim  5.57  6832         6\n",
       "2             Turbo  2.67  3112         8\n",
       "3             Turbo  3.62  4860         1\n",
       "4             Turbo  2.67  3815         5\n",
       "5   Turbo_Extra_Dim  5.55  6403        18\n",
       "6             Turbo  5.90  5027        13\n",
       "7             Turbo  4.95  4976         7\n",
       "8          Sencillo  5.87  9449        10\n",
       "9             Turbo  4.15  2436         7\n",
       "10  Turbo_Extra_Dim  5.27  7065        12\n",
       "11            Infac  0.93   170         1\n",
       "12            Infac  0.93   325         1\n",
       "13  Turbo_Extra_Dim  5.95  7374         7\n",
       "14            Turbo  4.03  4384        12\n",
       "15  Turbo_Extra_Dim  5.63  5519        14"
      ]
     },
     "metadata": {},
     "output_type": "display_data"
    }
   ],
   "source": [
    "sumSol = [ {'Truck': i['truck'], 'Time': round(i['expectedTime']/60,2), 'Load': i['load'], 'Packages': len(i['packages'])} for i in sol]\n",
    "df = pd.DataFrame.from_dict(sumSol)\n",
    "display(df)"
   ]
  },
  {
   "cell_type": "code",
   "execution_count": 44,
   "id": "787c984c",
   "metadata": {},
   "outputs": [
    {
     "ename": "TypeError",
     "evalue": "plotSolution() missing 2 required positional arguments: 'packages' and 'title'",
     "output_type": "error",
     "traceback": [
      "\u001b[1;31m---------------------------------------------------------------------------\u001b[0m",
      "\u001b[1;31mTypeError\u001b[0m                                 Traceback (most recent call last)",
      "\u001b[1;32m<ipython-input-44-bbb924a979d4>\u001b[0m in \u001b[0;36m<module>\u001b[1;34m\u001b[0m\n\u001b[0;32m     26\u001b[0m     \u001b[0mplt\u001b[0m\u001b[1;33m.\u001b[0m\u001b[0mshow\u001b[0m\u001b[1;33m(\u001b[0m\u001b[1;33m)\u001b[0m\u001b[1;33m\u001b[0m\u001b[1;33m\u001b[0m\u001b[0m\n\u001b[0;32m     27\u001b[0m \u001b[1;33m\u001b[0m\u001b[0m\n\u001b[1;32m---> 28\u001b[1;33m \u001b[0mplotSolution\u001b[0m\u001b[1;33m(\u001b[0m\u001b[0msol\u001b[0m\u001b[1;33m)\u001b[0m\u001b[1;33m\u001b[0m\u001b[1;33m\u001b[0m\u001b[0m\n\u001b[0m",
      "\u001b[1;31mTypeError\u001b[0m: plotSolution() missing 2 required positional arguments: 'packages' and 'title'"
     ]
    }
   ],
   "source": [
    "def plotSolution(solution:dict, packages: dict, title: str):\n",
    "    \n",
    "    im = image.imread('Medellin.png')\n",
    "    \n",
    "    fig, ax = plt.subplots()\n",
    "    ax.imshow(im, aspect='auto', extent=(-74.284337, -73.941473, 4.443372, 4.796587))\n",
    "    ax.yaxis.tick_left()\n",
    "    ax.tick_params(axis='y', colors='black', labelsize=5)\n",
    "    ax.tick_params(axis='x', colors='black', labelsize=5)\n",
    "    ax.grid(b=True, which='major', color='#D3D3D3', linestyle='-')\n",
    "    \n",
    "    conteo = 0\n",
    "    cycol = cycle('bgrcmk')\n",
    "    \n",
    "    for i in solution:\n",
    "        \n",
    "        x = [packages[j]['coordinates'][1] for j in i['packages']]\n",
    "        y = [packages[j]['coordinates'][0] for j in i['packages']]\n",
    "        \n",
    "        \n",
    "        plt.plot(x,y, c = next(cycol) , marker = \"o\", alpha = 0.6)\n",
    "        \n",
    "        conteo+=1\n",
    "    \n",
    "    plt.title(title)\n",
    "    plt.show()\n",
    "\n",
    "plotSolution(sol, data['packages'], 'Medellin Hoy')"
   ]
  },
  {
   "cell_type": "code",
   "execution_count": null,
   "id": "17c93f01",
   "metadata": {},
   "outputs": [],
   "source": []
  }
 ],
 "metadata": {
  "kernelspec": {
   "display_name": "Python 3",
   "language": "python",
   "name": "python3"
  },
  "language_info": {
   "codemirror_mode": {
    "name": "ipython",
    "version": 3
   },
   "file_extension": ".py",
   "mimetype": "text/x-python",
   "name": "python",
   "nbconvert_exporter": "python",
   "pygments_lexer": "ipython3",
   "version": "3.8.8"
  }
 },
 "nbformat": 4,
 "nbformat_minor": 5
}
