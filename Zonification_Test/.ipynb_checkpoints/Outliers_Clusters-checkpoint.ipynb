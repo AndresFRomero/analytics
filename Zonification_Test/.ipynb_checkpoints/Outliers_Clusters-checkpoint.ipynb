{
 "cells": [
  {
   "cell_type": "markdown",
   "metadata": {},
   "source": [
    "# 1. Anomaly detection algorithms\n",
    "\n",
    "Los outliers en el problema de zonificación son aquellos clientes alejados del grupo grande de ubicaciones, usualmente se encuentran en zonas alejadas a la ciudad → poblaciones. Estos clientes se remueven de la zonificación pues no siguen la lógica de este proceso.\n",
    "\n",
    "<img src=\"https://scikit-learn.org/0.20/_images/sphx_glr_plot_anomaly_comparison_001.png\" width=\"400\" height=\"400\" />\n",
    "\n",
    "Para nuestro caso de estudio los métodos One-Class SVM, Isolation Forest y Local Outlier Factor son factibles. Robust covariance no pues obliga a uqe los datos se distribuya como una elipse y eso depende de la ciudad."
   ]
  },
  {
   "cell_type": "code",
   "execution_count": null,
   "metadata": {},
   "outputs": [],
   "source": [
    "import time\n",
    "\n",
    "import pandas as pd\n",
    "import numpy as np\n",
    "import matplotlib\n",
    "import matplotlib.pyplot as plt\n",
    "\n",
    "from sklearn import svm\n",
    "from sklearn.datasets import make_moons, make_blobs\n",
    "from sklearn.covariance import EllipticEnvelope\n",
    "from sklearn.ensemble import IsolationForest\n",
    "from sklearn.neighbors import LocalOutlierFactor\n",
    "\n",
    "matplotlib.rcParams['contour.negative_linestyle'] = 'solid'\n",
    "\n",
    "# DataSets\n",
    "files = ['fontibon.csv', 'quito.csv', 'tlalnepantla.csv', 'cali.csv', 'bucaramanga.csv']\n",
    "datasets = []\n",
    "\n",
    "for i in files:\n",
    "    df = pd.read_csv(i)\n",
    "    df.dropna()\n",
    "    df = df.to_dict(orient = 'index')\n",
    "    datasets.append( np.array([ [df[j]['lng'], df[j]['lat']] for j in df ]) )\n",
    "\n",
    "# Detection algorithmn with different gamma value\n",
    "anomaly_algorithms = [\n",
    "    (\"One-Class SVM 0.1\", svm.OneClassSVM(nu=outliers_fraction, kernel=\"rbf\",gamma=0.1)),\n",
    "    (\"Robust covariance\", EllipticEnvelope(contamination=outliers_fraction)),\n",
    "    (\"Isolation Forest\", IsolationForest(contamination=outliers_fraction,random_state=42)),\n",
    "    (\"Local Outlier Factor\", LocalOutlierFactor(n_neighbors=35, contamination=outliers_fraction))\n",
    "]\n",
    "\n",
    "plt.figure(figsize=(len(anomaly_algorithms) * 2 + 3, 12.5))\n",
    "plt.subplots_adjust(left=.02, right=.98, bottom=.001, top=.96, wspace=.05,\n",
    "                    hspace=.01)\n",
    "\n",
    "plot_num = 1\n",
    "\n",
    "for i_dataset, X in enumerate(datasets):\n",
    "    for name, algorithm in anomaly_algorithms:\n",
    "        \n",
    "        plt.subplot(len(datasets), len(anomaly_algorithms), plot_num)\n",
    "        \n",
    "        if i_dataset == 0:\n",
    "            plt.title(name, size=15)\n",
    "\n",
    "        # fit the data and tag outliers\n",
    "        if name == \"Local Outlier Factor\":\n",
    "            y_pred = algorithm.fit_predict(X)\n",
    "        else:\n",
    "            y_pred = algorithm.fit(X).predict(X)\n",
    "        \n",
    "        colors = np.array(['#377eb8', '#ff7f00'])\n",
    "        plt.scatter(X[:, 0], X[:, 1], s=10, color=colors[(y_pred + 1) // 2])\n",
    "        plt.xticks(())\n",
    "        plt.yticks(())\n",
    "        plt.text(.99, .01, ('%.2fs' % (t1 - t0)).lstrip('0'),\n",
    "                 transform=plt.gca().transAxes, size=15,\n",
    "                 horizontalalignment='right')\n",
    "        plot_num += 1\n",
    "\n",
    "plt.show()"
   ]
  },
  {
   "cell_type": "code",
   "execution_count": null,
   "metadata": {},
   "outputs": [],
   "source": [
    "# Not plotting outliers\n",
    "\n",
    "plt.figure(figsize=(len(anomaly_algorithms) * 2 + 3, 12.5))\n",
    "plt.subplots_adjust(left=.02, right=.98, bottom=.001, top=.96, wspace=.05,\n",
    "                    hspace=.01)\n",
    "\n",
    "plot_num = 1\n",
    "\n",
    "for i_dataset, X in enumerate(datasets):\n",
    "    for name, algorithm in anomaly_algorithms:\n",
    "        \n",
    "        plt.subplot(len(datasets), len(anomaly_algorithms), plot_num)\n",
    "        \n",
    "        if i_dataset == 0:\n",
    "            plt.title(name, size=15)\n",
    "\n",
    "        # fit the data and tag outliers\n",
    "        if name == \"Local Outlier Factor\":\n",
    "            y_pred = algorithm.fit_predict(X)\n",
    "        else:\n",
    "            y_pred = algorithm.fit(X).predict(X)\n",
    "        \n",
    "        newX = []\n",
    "        for idx, k in enumerate(y_pred):\n",
    "            if k == 1:\n",
    "                newX.append(X[idx])\n",
    "                \n",
    "        newX = np.array(newX)\n",
    "        \n",
    "        colors = np.array(['#377eb8', '#ff7f00'])\n",
    "        plt.scatter(newX[:, 0], newX[:, 1], s=10, color=colors[1])\n",
    "        plt.xticks(())\n",
    "        plt.yticks(())\n",
    "        plt.text(.99, .01, ('%.2fs' % (t1 - t0)).lstrip('0'),\n",
    "                 transform=plt.gca().transAxes, size=15,\n",
    "                 horizontalalignment='right')\n",
    "        plot_num += 1\n",
    "\n",
    "plt.show()"
   ]
  },
  {
   "cell_type": "code",
   "execution_count": null,
   "metadata": {},
   "outputs": [],
   "source": [
    "!pip install keplergl"
   ]
  },
  {
   "cell_type": "code",
   "execution_count": 1,
   "metadata": {},
   "outputs": [
    {
     "name": "stderr",
     "output_type": "stream",
     "text": [
      "PROJ: proj_create_from_database: Cannot find proj.db\n"
     ]
    },
    {
     "name": "stdout",
     "output_type": "stream",
     "text": [
      "User Guide: https://docs.kepler.gl/docs/keplergl-jupyter\n"
     ]
    },
    {
     "data": {
      "application/vnd.jupyter.widget-view+json": {
       "model_id": "f5efa1287ffb4bb59dbe4327edf3e17b",
       "version_major": 2,
       "version_minor": 0
      },
      "text/plain": [
       "KeplerGl()"
      ]
     },
     "metadata": {},
     "output_type": "display_data"
    }
   ],
   "source": [
    "# Load an empty map\n",
    "import os\n",
    "os.environ['GDAL_DATA'] = '/home/server/anaconda3/share/gdal'\n",
    "os.environ['PROJ_LIB'] = '/home/server/anaconda3/share/proj'\n",
    "\n",
    "from keplergl import KeplerGl\n",
    "map_1 = KeplerGl()\n",
    "map_1"
   ]
  },
  {
   "cell_type": "code",
   "execution_count": null,
   "metadata": {},
   "outputs": [],
   "source": [
    "conda install -c conda-forge gdal"
   ]
  },
  {
   "cell_type": "code",
   "execution_count": null,
   "metadata": {},
   "outputs": [],
   "source": [
    "conda install -c conda-forge fiona"
   ]
  },
  {
   "cell_type": "code",
   "execution_count": null,
   "metadata": {},
   "outputs": [],
   "source": [
    "conda install -c conda-forge ipywidgets"
   ]
  },
  {
   "cell_type": "code",
   "execution_count": null,
   "metadata": {},
   "outputs": [],
   "source": [
    "!pip install jupyter-client==5.2.4"
   ]
  },
  {
   "cell_type": "code",
   "execution_count": null,
   "metadata": {},
   "outputs": [],
   "source": []
  }
 ],
 "metadata": {
  "interpreter": {
   "hash": "916dbcbb3f70747c44a77c7bcd40155683ae19c65e1c03b4aa3499c5328201f1"
  },
  "kernelspec": {
   "display_name": "Python 3",
   "language": "python",
   "name": "python3"
  },
  "language_info": {
   "codemirror_mode": {
    "name": "ipython",
    "version": 3
   },
   "file_extension": ".py",
   "mimetype": "text/x-python",
   "name": "python",
   "nbconvert_exporter": "python",
   "pygments_lexer": "ipython3",
   "version": "3.8.8"
  }
 },
 "nbformat": 4,
 "nbformat_minor": 2
}
